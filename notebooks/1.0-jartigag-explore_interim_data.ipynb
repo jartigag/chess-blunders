{
 "cells": [
  {
   "cell_type": "code",
   "execution_count": 1,
   "metadata": {},
   "outputs": [],
   "source": [
    "import pandas as pd\n",
    "import numpy as np\n",
    "import matplotlib.pyplot as plt"
   ]
  },
  {
   "cell_type": "code",
   "execution_count": 2,
   "metadata": {
    "scrolled": false
   },
   "outputs": [
    {
     "name": "stdout",
     "output_type": "stream",
     "text": [
      "2020-01: 778722 rows\n",
      "2020-02: 785708 rows\n",
      "2020-03: 785573 rows\n",
      "2020-04: 765804 rows\n",
      "2020-05: 779387 rows\n",
      "2020-06: 791979 rows\n",
      "2020-07: 808481 rows\n",
      "2020-08: 794475 rows\n",
      "2020-09: 865472 rows\n",
      "2020-10: 819039 rows\n",
      "2020-11: 815354 rows\n",
      "2020-12: 871235 rows\n",
      "CPU times: user 11.3 s, sys: 762 ms, total: 12.1 s\n",
      "Wall time: 12.1 s\n"
     ]
    },
    {
     "data": {
      "text/html": [
       "<div>\n",
       "<style scoped>\n",
       "    .dataframe tbody tr th:only-of-type {\n",
       "        vertical-align: middle;\n",
       "    }\n",
       "\n",
       "    .dataframe tbody tr th {\n",
       "        vertical-align: top;\n",
       "    }\n",
       "\n",
       "    .dataframe thead th {\n",
       "        text-align: right;\n",
       "    }\n",
       "</style>\n",
       "<table border=\"1\" class=\"dataframe\">\n",
       "  <thead>\n",
       "    <tr style=\"text-align: right;\">\n",
       "      <th></th>\n",
       "      <th>Move</th>\n",
       "      <th>FEN</th>\n",
       "      <th>Turn</th>\n",
       "      <th>Elo</th>\n",
       "      <th>TimeControl</th>\n",
       "      <th>ElapsedSeconds</th>\n",
       "      <th>Date</th>\n",
       "    </tr>\n",
       "  </thead>\n",
       "  <tbody>\n",
       "    <tr>\n",
       "      <th>0</th>\n",
       "      <td>Bc3</td>\n",
       "      <td>r1b2rk1/pp3pbp/6p1/2pN4/2Pqp3/8/P1RBBnPP/1Q3RK...</td>\n",
       "      <td>20</td>\n",
       "      <td>1581</td>\n",
       "      <td>300+3</td>\n",
       "      <td>201.0</td>\n",
       "      <td>2020-01-01</td>\n",
       "    </tr>\n",
       "    <tr>\n",
       "      <th>1</th>\n",
       "      <td>Nf2+</td>\n",
       "      <td>r1b2rk1/pp3pbp/6p1/2pN4/2Pqp3/2B4n/P1R1B1PP/1Q...</td>\n",
       "      <td>21</td>\n",
       "      <td>1595</td>\n",
       "      <td>300+3</td>\n",
       "      <td>16.0</td>\n",
       "      <td>2020-01-01</td>\n",
       "    </tr>\n",
       "    <tr>\n",
       "      <th>2</th>\n",
       "      <td>Kg1</td>\n",
       "      <td>r1b2rk1/pp3pbp/6p1/2pN4/2Pqp3/2B5/P1R1BnPP/1Q3...</td>\n",
       "      <td>22</td>\n",
       "      <td>1581</td>\n",
       "      <td>300+3</td>\n",
       "      <td>160.0</td>\n",
       "      <td>2020-01-01</td>\n",
       "    </tr>\n",
       "    <tr>\n",
       "      <th>3</th>\n",
       "      <td>Nf2+</td>\n",
       "      <td>r1b2rk1/pp3pbp/6p1/2pN4/2Pqp3/2B4n/P1R1B1PP/1Q...</td>\n",
       "      <td>23</td>\n",
       "      <td>1595</td>\n",
       "      <td>300+3</td>\n",
       "      <td>17.0</td>\n",
       "      <td>2020-01-01</td>\n",
       "    </tr>\n",
       "    <tr>\n",
       "      <th>4</th>\n",
       "      <td>Bxe4</td>\n",
       "      <td>rn1qkb1r/ppp1pppp/5n2/5bN1/4P3/8/PPP2PPP/RNBQK...</td>\n",
       "      <td>5</td>\n",
       "      <td>1496</td>\n",
       "      <td>60+0</td>\n",
       "      <td>58.0</td>\n",
       "      <td>2020-01-01</td>\n",
       "    </tr>\n",
       "  </tbody>\n",
       "</table>\n",
       "</div>"
      ],
      "text/plain": [
       "   Move                                                FEN  Turn   Elo  \\\n",
       "0   Bc3  r1b2rk1/pp3pbp/6p1/2pN4/2Pqp3/8/P1RBBnPP/1Q3RK...    20  1581   \n",
       "1  Nf2+  r1b2rk1/pp3pbp/6p1/2pN4/2Pqp3/2B4n/P1R1B1PP/1Q...    21  1595   \n",
       "2   Kg1  r1b2rk1/pp3pbp/6p1/2pN4/2Pqp3/2B5/P1R1BnPP/1Q3...    22  1581   \n",
       "3  Nf2+  r1b2rk1/pp3pbp/6p1/2pN4/2Pqp3/2B4n/P1R1B1PP/1Q...    23  1595   \n",
       "4  Bxe4  rn1qkb1r/ppp1pppp/5n2/5bN1/4P3/8/PPP2PPP/RNBQK...     5  1496   \n",
       "\n",
       "  TimeControl  ElapsedSeconds       Date  \n",
       "0       300+3           201.0 2020-01-01  \n",
       "1       300+3            16.0 2020-01-01  \n",
       "2       300+3           160.0 2020-01-01  \n",
       "3       300+3            17.0 2020-01-01  \n",
       "4        60+0            58.0 2020-01-01  "
      ]
     },
     "execution_count": 2,
     "metadata": {},
     "output_type": "execute_result"
    }
   ],
   "source": [
    "%%time\n",
    "\n",
    "df_list = []\n",
    "for m in range(1,13):\n",
    "    df = pd.read_csv(f'../data/interim/lichess_db_standard_rated_2020-{m:02d}.eval.blunders.csv')\n",
    "    print(f\"2020-{m:02d}:\",len(df),\"rows\")\n",
    "    df['Date'] = pd.to_datetime(f'2020-{m:02d}')\n",
    "    df_list.append(df)\n",
    "\n",
    "df_data = pd.concat([d for d in df_list])\n",
    "\n",
    "df_data.head()"
   ]
  },
  {
   "cell_type": "markdown",
   "metadata": {},
   "source": [
    "# Explore by Elo"
   ]
  },
  {
   "cell_type": "code",
   "execution_count": null,
   "metadata": {},
   "outputs": [],
   "source": [
    "grouped_by_elo = df_data.groupby( pd.cut(df_data['Elo'], np.arange(600, 3000, 200)) )\n",
    "grouped_by_elo.size()"
   ]
  },
  {
   "cell_type": "code",
   "execution_count": null,
   "metadata": {
    "scrolled": false
   },
   "outputs": [],
   "source": [
    "for low_thr in range(600,2600,200):\n",
    "    vc = grouped_by_elo.get_group(pd.Interval(low_thr, low_thr+200, closed='right')).value_counts(['Move', 'FEN'])\n",
    "    #with pd.option_context('display.max_rows', 8):\n",
    "    print(f\"Elo: ({low_thr},{low_thr+200}]\")\n",
    "    print(vc[vc>1].head(5))\n",
    "    print(\"---\")"
   ]
  },
  {
   "cell_type": "markdown",
   "metadata": {},
   "source": [
    "# Explore by Date"
   ]
  },
  {
   "cell_type": "code",
   "execution_count": null,
   "metadata": {},
   "outputs": [],
   "source": [
    "grouped_by_elo = df_data.groupby( [pd.cut(df_data['Elo'], np.arange(600, 3000, 200)),'Date'] )\n",
    "grouped_by_elo.size()"
   ]
  },
  {
   "cell_type": "code",
   "execution_count": null,
   "metadata": {
    "scrolled": false
   },
   "outputs": [],
   "source": [
    "for low_thr in [1600]:#range(600,2600,200):\n",
    "    for date in pd.date_range(start='2020-01', periods=12, freq=pd.offsets.MonthBegin()):\n",
    "        vc = grouped_by_elo.get_group((pd.Interval(low_thr, low_thr+200, closed='right'),date)).value_counts(['Move', 'FEN'])\n",
    "        print(f\"Date: {date}. Elo: ({low_thr},{low_thr+200}]\")\n",
    "        print(vc[vc>1].head(5))\n",
    "    print(\"---\")"
   ]
  },
  {
   "cell_type": "markdown",
   "metadata": {},
   "source": [
    "# Explore by plots"
   ]
  },
  {
   "cell_type": "code",
   "execution_count": 3,
   "metadata": {
    "scrolled": false
   },
   "outputs": [
    {
     "name": "stdout",
     "output_type": "stream",
     "text": [
      "CPU times: user 40.7 s, sys: 406 ms, total: 41.1 s\n",
      "Wall time: 41 s\n"
     ]
    }
   ],
   "source": [
    "%%time\n",
    "\n",
    "vc = df_data.value_counts(['Move', 'FEN'])\n",
    "vc_gt400 = vc[vc>400]"
   ]
  },
  {
   "cell_type": "code",
   "execution_count": 4,
   "metadata": {},
   "outputs": [
    {
     "data": {
      "text/plain": [
       "<AxesSubplot:xlabel='Move,FEN'>"
      ]
     },
     "execution_count": 4,
     "metadata": {},
     "output_type": "execute_result"
    },
    {
     "data": {
      "image/png": "[encoded data removed]",
      "text/plain": [
       "<Figure size 432x288 with 1 Axes>"
      ]
     },
     "metadata": {
      "needs_background": "light"
     },
     "output_type": "display_data"
    }
   ],
   "source": [
    "vc_gt400.plot(kind='bar') #TODO: change xaxis labels to move only"
   ]
  },
  {
   "cell_type": "code",
   "execution_count": null,
   "metadata": {
    "scrolled": false
   },
   "outputs": [],
   "source": [
    "#TODO: include FEN\n",
    "s = df_data.groupby(['Date','Move']).size().sort_values(ascending=False).to_frame('size')\n",
    "s = s.reset_index().set_index('Date').sort_index()\n",
    "\n",
    "data_dict = {}\n",
    "for move, group in s[s['size']>5000].groupby('Move'):\n",
    "    data_dict[move] = {'date': [], 'size': []}\n",
    "    data_dict[move]['date'] = [t.to_pydatetime() for t in group.index]\n",
    "    data_dict[move]['size'] = group['size'].to_list()\n",
    "    #plt.plot(x,y, label=move)\n",
    "\n",
    "sorted_data = sorted(data_dict.items(), key = lambda kv:data_dict[kv[0]]['size'][-1], reverse=True)\n",
    "\n",
    "for row in sorted_data:\n",
    "    move = row[0]\n",
    "    x = row[1]['date']\n",
    "    y = row[1]['size']\n",
    "    plt.plot(x,y, label=move)\n",
    "\n",
    "plt.legend(loc='right', bbox_to_anchor=(1.5,0.5))\n",
    "plt.show()"
   ]
  }
 ],
 "metadata": {
  "kernelspec": {
   "display_name": "venv",
   "language": "python",
   "name": "venv"
  },
  "language_info": {
   "codemirror_mode": {
    "name": "ipython",
    "version": 3
   },
   "file_extension": ".py",
   "mimetype": "text/x-python",
   "name": "python",
   "nbconvert_exporter": "python",
   "pygments_lexer": "ipython3",
   "version": "3.7.3"
  }
 },
 "nbformat": 4,
 "nbformat_minor": 2
}
