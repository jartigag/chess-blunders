{
 "cells": [
  {
   "cell_type": "code",
   "execution_count": 1,
   "metadata": {},
   "outputs": [],
   "source": [
    "import pandas as pd\n",
    "import numpy as np"
   ]
  },
  {
   "cell_type": "code",
   "execution_count": 2,
   "metadata": {},
   "outputs": [
    {
     "data": {
      "text/html": [
       "<div>\n",
       "<style scoped>\n",
       "    .dataframe tbody tr th:only-of-type {\n",
       "        vertical-align: middle;\n",
       "    }\n",
       "\n",
       "    .dataframe tbody tr th {\n",
       "        vertical-align: top;\n",
       "    }\n",
       "\n",
       "    .dataframe thead th {\n",
       "        text-align: right;\n",
       "    }\n",
       "</style>\n",
       "<table border=\"1\" class=\"dataframe\">\n",
       "  <thead>\n",
       "    <tr style=\"text-align: right;\">\n",
       "      <th></th>\n",
       "      <th>Move</th>\n",
       "      <th>FEN</th>\n",
       "      <th>Elo</th>\n",
       "      <th>TimeControl</th>\n",
       "      <th>SecondsInThisMove</th>\n",
       "    </tr>\n",
       "  </thead>\n",
       "  <tbody>\n",
       "    <tr>\n",
       "      <th>0</th>\n",
       "      <td>Rg1</td>\n",
       "      <td>5rrk/5q2/p3p2p/4P1bN/1PPQ4/5p2/5P1P/1R3R1K w -...</td>\n",
       "      <td>1448</td>\n",
       "      <td>180+2</td>\n",
       "      <td>22.0</td>\n",
       "    </tr>\n",
       "    <tr>\n",
       "      <th>1</th>\n",
       "      <td>Qb6</td>\n",
       "      <td>5rrk/8/p3p2p/4P1bq/1PPQ4/5p2/5P1P/1R4RK w - - ...</td>\n",
       "      <td>1448</td>\n",
       "      <td>180+2</td>\n",
       "      <td>22.0</td>\n",
       "    </tr>\n",
       "    <tr>\n",
       "      <th>2</th>\n",
       "      <td>Nf6</td>\n",
       "      <td>r3rbk1/p2n1p1p/2p3p1/3p1BB1/3q4/2N3Q1/PP3PPP/R...</td>\n",
       "      <td>1416</td>\n",
       "      <td>180+2</td>\n",
       "      <td>98.0</td>\n",
       "    </tr>\n",
       "    <tr>\n",
       "      <th>3</th>\n",
       "      <td>f4</td>\n",
       "      <td>2r3k1/p4p1p/3b2p1/3Brq2/4N3/3Q2P1/PP3P1P/R4RK1...</td>\n",
       "      <td>1446</td>\n",
       "      <td>180+2</td>\n",
       "      <td>4.0</td>\n",
       "    </tr>\n",
       "    <tr>\n",
       "      <th>4</th>\n",
       "      <td>Nd1</td>\n",
       "      <td>r4rk1/1pp1q1pp/1p1ppn2/4p1N1/3nP3/2NP3P/PPPQ1P...</td>\n",
       "      <td>1997</td>\n",
       "      <td>180+2</td>\n",
       "      <td>131.0</td>\n",
       "    </tr>\n",
       "  </tbody>\n",
       "</table>\n",
       "</div>"
      ],
      "text/plain": [
       "  Move                                                FEN   Elo TimeControl  \\\n",
       "0  Rg1  5rrk/5q2/p3p2p/4P1bN/1PPQ4/5p2/5P1P/1R3R1K w -...  1448       180+2   \n",
       "1  Qb6  5rrk/8/p3p2p/4P1bq/1PPQ4/5p2/5P1P/1R4RK w - - ...  1448       180+2   \n",
       "2  Nf6  r3rbk1/p2n1p1p/2p3p1/3p1BB1/3q4/2N3Q1/PP3PPP/R...  1416       180+2   \n",
       "3   f4  2r3k1/p4p1p/3b2p1/3Brq2/4N3/3Q2P1/PP3P1P/R4RK1...  1446       180+2   \n",
       "4  Nd1  r4rk1/1pp1q1pp/1p1ppn2/4p1N1/3nP3/2NP3P/PPPQ1P...  1997       180+2   \n",
       "\n",
       "   SecondsInThisMove  \n",
       "0               22.0  \n",
       "1               22.0  \n",
       "2               98.0  \n",
       "3                4.0  \n",
       "4              131.0  "
      ]
     },
     "execution_count": 2,
     "metadata": {},
     "output_type": "execute_result"
    }
   ],
   "source": [
    "df_data = pd.read_csv('../data/interim/first_500k_lichess_db_standard_rated_2021-04.pgn.eval.blunders.csv')\n",
    "df_data.head()"
   ]
  },
  {
   "cell_type": "code",
   "execution_count": 3,
   "metadata": {},
   "outputs": [
    {
     "data": {
      "text/plain": [
       "Elo\n",
       "(1400, 1600]    19859\n",
       "(1600, 1800]    15461\n",
       "(1800, 2000]    11228\n",
       "(2000, 2200]     6937\n",
       "(2200, 2400]     3889\n",
       "(2400, 2600]     1908\n",
       "(2600, 2800]      389\n",
       "dtype: int64"
      ]
     },
     "execution_count": 3,
     "metadata": {},
     "output_type": "execute_result"
    }
   ],
   "source": [
    "grouped_by_elo = df_data.groupby( pd.cut(df_data['Elo'], np.arange(1400, 3000, 200)) )\n",
    "grouped_by_elo.size()"
   ]
  },
  {
   "cell_type": "code",
   "execution_count": 14,
   "metadata": {},
   "outputs": [
    {
     "data": {
      "text/plain": [
       "Move  FEN                                                                \n",
       "Bc3   r1b1kbnr/pppp1ppp/2n5/4P3/8/5N2/PqPBPPPP/RN1QKB1R w KQkq - 0 6         3\n",
       "Nd4   r1bqkbnr/pppp1ppp/2n5/3Pp3/4P3/8/PPP2PPP/RNBQKBNR b KQkq - 0 3         3\n",
       "Nxf7  r1bqkb1r/pppp1ppp/2n2n2/4N3/4P3/8/PPPP1PPP/RNBQKB1R w KQkq - 1 4       2\n",
       "Nxe5  r1bqk1nr/pppp1ppp/2n5/2b1p3/2B1P3/5N2/PPPP1PPP/RNBQK2R w KQkq - 4 4    2\n",
       "Bg4   rnbqkbnr/ppp1pppp/8/3P4/8/8/PPPP1PPP/RNBQKBNR b KQkq - 0 2             2\n",
       "Bb6   r1b1k1nr/pppp1ppp/2n5/2bNp3/2B1P1Q1/8/PPPP1qPP/R1BK2NR b kq - 1 6      2\n",
       "f6    r1bqkbnr/pppp1pp1/2n4p/4p3/2BPP3/5N2/PPP2PPP/RNBQK2R b KQkq - 0 4      2\n",
       "c3    r1b1kbnr/pppp1ppp/2n5/4P3/1q3B2/5N2/PPP1PPPP/RN1QKB1R w KQkq - 5 5     2\n",
       "Bd2   r1bqk2r/pppp1ppp/2n2n2/8/1b1NP3/2N5/PPP2PPP/R1BQKB1R w KQkq - 1 6      2\n",
       "Nc3   rnbqkbnr/p3pppp/3p4/2p5/4P3/5N2/PPP2PPP/RNBQKB1R w KQkq - 0 5          2\n",
       "cxb5  rnbqkbnr/p3pppp/2p5/1P6/2pP4/4P3/1P3PPP/RNBQKBNR b KQkq - 0 5          2\n",
       "d6    r1bqkb1r/ppppnppp/8/3PN3/4n3/2P5/PP3PPP/RNBQKB1R b KQkq - 0 6          2\n",
       "Bc4   rnbqkbnr/ppp1pppp/8/3p4/4P3/8/PPPP1PPP/RNBQKBNR w KQkq - 0 2           2\n",
       "bxc5  rnbqkbnr/p3pppp/1p1p4/2P5/4P3/5N2/PPP2PPP/RNBQKB1R b KQkq - 0 4        2\n",
       "dtype: int64"
      ]
     },
     "execution_count": 14,
     "metadata": {},
     "output_type": "execute_result"
    }
   ],
   "source": [
    "vc = grouped_by_elo.get_group(pd.Interval(1400, 1600, closed='right')).value_counts(['Move', 'FEN'])\n",
    "vc[vc>1]"
   ]
  }
 ],
 "metadata": {
  "kernelspec": {
   "display_name": "venv",
   "language": "python",
   "name": "venv"
  },
  "language_info": {
   "codemirror_mode": {
    "name": "ipython",
    "version": 3
   },
   "file_extension": ".py",
   "mimetype": "text/x-python",
   "name": "python",
   "nbconvert_exporter": "python",
   "pygments_lexer": "ipython3",
   "version": "3.7.3"
  }
 },
 "nbformat": 4,
 "nbformat_minor": 2
}
