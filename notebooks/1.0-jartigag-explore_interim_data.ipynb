{
 "cells": [
  {
   "cell_type": "code",
   "execution_count": 1,
   "metadata": {},
   "outputs": [],
   "source": [
    "import pandas as pd\n",
    "import numpy as np\n",
    "import matplotlib.pyplot as plt"
   ]
  },
  {
   "cell_type": "code",
   "execution_count": 2,
   "metadata": {
    "scrolled": false
   },
   "outputs": [
    {
     "name": "stdout",
     "output_type": "stream",
     "text": [
      "2020-01: 778722 rows\n",
      "2020-02: 785708 rows\n",
      "2020-03: 785573 rows\n",
      "2020-04: 765804 rows\n",
      "2020-05: 779387 rows\n",
      "2020-06: 791979 rows\n",
      "2020-07: 808481 rows\n",
      "2020-08: 794475 rows\n",
      "2020-09: 611417 rows\n",
      "2020-10: 819039 rows\n",
      "2020-11: 815354 rows\n",
      "2020-12: 871235 rows\n"
     ]
    },
    {
     "data": {
      "text/html": [
       "<div>\n",
       "<style scoped>\n",
       "    .dataframe tbody tr th:only-of-type {\n",
       "        vertical-align: middle;\n",
       "    }\n",
       "\n",
       "    .dataframe tbody tr th {\n",
       "        vertical-align: top;\n",
       "    }\n",
       "\n",
       "    .dataframe thead th {\n",
       "        text-align: right;\n",
       "    }\n",
       "</style>\n",
       "<table border=\"1\" class=\"dataframe\">\n",
       "  <thead>\n",
       "    <tr style=\"text-align: right;\">\n",
       "      <th></th>\n",
       "      <th>Move</th>\n",
       "      <th>FEN</th>\n",
       "      <th>Turn</th>\n",
       "      <th>Elo</th>\n",
       "      <th>TimeControl</th>\n",
       "      <th>ElapsedSeconds</th>\n",
       "      <th>Date</th>\n",
       "    </tr>\n",
       "  </thead>\n",
       "  <tbody>\n",
       "    <tr>\n",
       "      <th>0</th>\n",
       "      <td>Bc3</td>\n",
       "      <td>r1b2rk1/pp3pbp/6p1/2pN4/2Pqp3/8/P1RBBnPP/1Q3RK...</td>\n",
       "      <td>20</td>\n",
       "      <td>1581</td>\n",
       "      <td>300+3</td>\n",
       "      <td>201.0</td>\n",
       "      <td>2020-01-01</td>\n",
       "    </tr>\n",
       "    <tr>\n",
       "      <th>1</th>\n",
       "      <td>Nf2+</td>\n",
       "      <td>r1b2rk1/pp3pbp/6p1/2pN4/2Pqp3/2B4n/P1R1B1PP/1Q...</td>\n",
       "      <td>21</td>\n",
       "      <td>1595</td>\n",
       "      <td>300+3</td>\n",
       "      <td>16.0</td>\n",
       "      <td>2020-01-01</td>\n",
       "    </tr>\n",
       "    <tr>\n",
       "      <th>2</th>\n",
       "      <td>Kg1</td>\n",
       "      <td>r1b2rk1/pp3pbp/6p1/2pN4/2Pqp3/2B5/P1R1BnPP/1Q3...</td>\n",
       "      <td>22</td>\n",
       "      <td>1581</td>\n",
       "      <td>300+3</td>\n",
       "      <td>160.0</td>\n",
       "      <td>2020-01-01</td>\n",
       "    </tr>\n",
       "    <tr>\n",
       "      <th>3</th>\n",
       "      <td>Nf2+</td>\n",
       "      <td>r1b2rk1/pp3pbp/6p1/2pN4/2Pqp3/2B4n/P1R1B1PP/1Q...</td>\n",
       "      <td>23</td>\n",
       "      <td>1595</td>\n",
       "      <td>300+3</td>\n",
       "      <td>17.0</td>\n",
       "      <td>2020-01-01</td>\n",
       "    </tr>\n",
       "    <tr>\n",
       "      <th>4</th>\n",
       "      <td>Bxe4</td>\n",
       "      <td>rn1qkb1r/ppp1pppp/5n2/5bN1/4P3/8/PPP2PPP/RNBQK...</td>\n",
       "      <td>5</td>\n",
       "      <td>1496</td>\n",
       "      <td>60+0</td>\n",
       "      <td>58.0</td>\n",
       "      <td>2020-01-01</td>\n",
       "    </tr>\n",
       "  </tbody>\n",
       "</table>\n",
       "</div>"
      ],
      "text/plain": [
       "   Move                                                FEN  Turn   Elo  \\\n",
       "0   Bc3  r1b2rk1/pp3pbp/6p1/2pN4/2Pqp3/8/P1RBBnPP/1Q3RK...    20  1581   \n",
       "1  Nf2+  r1b2rk1/pp3pbp/6p1/2pN4/2Pqp3/2B4n/P1R1B1PP/1Q...    21  1595   \n",
       "2   Kg1  r1b2rk1/pp3pbp/6p1/2pN4/2Pqp3/2B5/P1R1BnPP/1Q3...    22  1581   \n",
       "3  Nf2+  r1b2rk1/pp3pbp/6p1/2pN4/2Pqp3/2B4n/P1R1B1PP/1Q...    23  1595   \n",
       "4  Bxe4  rn1qkb1r/ppp1pppp/5n2/5bN1/4P3/8/PPP2PPP/RNBQK...     5  1496   \n",
       "\n",
       "  TimeControl  ElapsedSeconds       Date  \n",
       "0       300+3           201.0 2020-01-01  \n",
       "1       300+3            16.0 2020-01-01  \n",
       "2       300+3           160.0 2020-01-01  \n",
       "3       300+3            17.0 2020-01-01  \n",
       "4        60+0            58.0 2020-01-01  "
      ]
     },
     "execution_count": 2,
     "metadata": {},
     "output_type": "execute_result"
    }
   ],
   "source": [
    "df_list = []\n",
    "for m in range(1,13):\n",
    "    df = pd.read_csv(f'../data/interim/lichess_db_standard_rated_2020-{m:02d}.eval.blunders.csv')\n",
    "    print(f\"2020-{m:02d}:\",len(df),\"rows\")\n",
    "    df['Date'] = pd.to_datetime(f'2020-{m:02d}')\n",
    "    df_list.append(df)\n",
    "\n",
    "df_data = pd.concat([d for d in df_list])\n",
    "\n",
    "df_data.head()"
   ]
  },
  {
   "cell_type": "markdown",
   "metadata": {},
   "source": [
    "# Explore by Elo"
   ]
  },
  {
   "cell_type": "code",
   "execution_count": 3,
   "metadata": {},
   "outputs": [
    {
     "data": {
      "text/plain": [
       "Elo\n",
       "(600, 800]        55356\n",
       "(800, 1000]      441319\n",
       "(1000, 1200]    1196623\n",
       "(1200, 1400]    1814205\n",
       "(1400, 1600]    2083003\n",
       "(1600, 1800]    1753751\n",
       "(1800, 2000]    1207250\n",
       "(2000, 2200]     588065\n",
       "(2200, 2400]     198419\n",
       "(2400, 2600]      50435\n",
       "(2600, 2800]      13366\n",
       "dtype: int64"
      ]
     },
     "execution_count": 3,
     "metadata": {},
     "output_type": "execute_result"
    }
   ],
   "source": [
    "grouped_by_elo = df_data.groupby( pd.cut(df_data['Elo'], np.arange(600, 3000, 200)) )\n",
    "grouped_by_elo.size()"
   ]
  },
  {
   "cell_type": "code",
   "execution_count": 4,
   "metadata": {
    "scrolled": false
   },
   "outputs": [
    {
     "name": "stdout",
     "output_type": "stream",
     "text": [
      "Elo: (600,800]\n",
      "Move  FEN                                                             \n",
      "g6    rnbqkbnr/pppp1ppp/8/4p2Q/4P3/8/PPPP1PPP/RNB1KBNR b KQkq - 1 2       51\n",
      "Qh4   rnbqkbnr/pppp1ppp/8/4p3/4P3/5N2/PPPP1PPP/RNBQKB1R b KQkq - 1 2       8\n",
      "f3    rnbqkb1r/pppp1ppp/8/4N3/4n3/8/PPPP1PPP/RNBQKB1R w KQkq - 0 4         8\n",
      "Nxd5  r1bqkbnr/ppp1pppp/2n5/3p4/3P4/2N5/PPP1PPPP/R1BQKBNR w KQkq - 2 3     7\n",
      "Bc4   rnbqkbnr/ppp1pppp/8/3p4/4P3/8/PPPP1PPP/RNBQKBNR w KQkq - 0 2         7\n",
      "dtype: int64\n",
      "---\n",
      "Elo: (800,1000]\n",
      "Move  FEN                                                                 \n",
      "g6    rnbqkbnr/pppp1ppp/8/4p2Q/4P3/8/PPPP1PPP/RNB1KBNR b KQkq - 1 2           294\n",
      "g4    r1bqkb1r/pppp1ppp/2n2n2/4p3/2B1P3/5Q2/PPPP1PPP/RNB1K1NR w KQkq - 4 4     63\n",
      "Nd4   r1bqkbnr/pppp1ppp/2n5/3Pp3/4P3/8/PPP2PPP/RNBQKBNR b KQkq - 0 3           50\n",
      "Ng5   r1bqk1nr/pppp1ppp/2n5/2b1p3/2B1P3/5N2/PPPP1PPP/RNBQK2R w KQkq - 4 4      46\n",
      "Nd4   rnbqkbnr/ppp1pppp/8/8/4p3/5N2/PPPP1PPP/RNBQKB1R w KQkq - 0 3             42\n",
      "dtype: int64\n",
      "---\n",
      "Elo: (1000,1200]\n",
      "Move  FEN                                                                 \n",
      "g6    rnbqkbnr/pppp1ppp/8/4p2Q/4P3/8/PPPP1PPP/RNB1KBNR b KQkq - 1 2           398\n",
      "Ng5   r1bqk1nr/pppp1ppp/2n5/2b1p3/2B1P3/5N2/PPPP1PPP/RNBQK2R w KQkq - 4 4     196\n",
      "Nd4   r1bqkbnr/pppp1ppp/2n5/3Pp3/4P3/8/PPP2PPP/RNBQKBNR b KQkq - 0 3          150\n",
      "Nh3   r1bqkb1r/pppp1ppp/2n2n2/4p3/2B1P3/5Q2/PPPP1PPP/RNB1K1NR w KQkq - 4 4    142\n",
      "fxe5  rnbqkbnr/pppp2pp/5p2/4P3/4P3/8/PPP2PPP/RNBQKBNR b KQkq - 0 3            118\n",
      "dtype: int64\n",
      "---\n",
      "Elo: (1200,1400]\n",
      "Move  FEN                                                                 \n",
      "Ng5   r1bqk1nr/pppp1ppp/2n5/2b1p3/2B1P3/5N2/PPPP1PPP/RNBQK2R w KQkq - 4 4     271\n",
      "g6    rnbqkbnr/pppp1ppp/8/4p2Q/4P3/8/PPPP1PPP/RNB1KBNR b KQkq - 1 2           258\n",
      "Bc4   rnbqkbnr/ppp1pppp/8/3p4/4P3/8/PPPP1PPP/RNBQKBNR w KQkq - 0 2            171\n",
      "Nd4   r1bqkbnr/pppp1ppp/2n5/3Pp3/4P3/8/PPP2PPP/RNBQKBNR b KQkq - 0 3          164\n",
      "Nh3   r1bqkb1r/pppp1ppp/2n2n2/4p3/2B1P3/5Q2/PPPP1PPP/RNB1K1NR w KQkq - 4 4    149\n",
      "dtype: int64\n",
      "---\n",
      "Elo: (1400,1600]\n",
      "Move  FEN                                                                \n",
      "Ng5   r1bqk1nr/pppp1ppp/2n5/2b1p3/2B1P3/5N2/PPPP1PPP/RNBQK2R w KQkq - 4 4    187\n",
      "Bc4   rnbqkbnr/ppp1pppp/8/3p4/4P3/8/PPPP1PPP/RNBQKBNR w KQkq - 0 2           178\n",
      "fxe5  r1bqkbnr/pppp1ppp/2n5/4p3/4PP2/8/PPPP2PP/RNBQKBNR w KQkq - 1 3         129\n",
      "cxb5  rnbqkbnr/p3pppp/2p5/1P6/2pP4/4P3/1P3PPP/RNBQKBNR b KQkq - 0 5          121\n",
      "Nxe5  r1bqkbnr/pppp1ppp/2n5/4P3/4P3/8/PPPP2PP/RNBQKBNR b KQkq - 0 3          116\n",
      "dtype: int64\n",
      "---\n",
      "Elo: (1600,1800]\n",
      "Move   FEN                                                             \n",
      "Bc4    rnbqkbnr/ppp1pppp/8/3p4/4P3/8/PPPP1PPP/RNBQKBNR w KQkq - 0 2        136\n",
      "Bg4    rnbqkbnr/ppp1pppp/8/3P4/8/8/PPPP1PPP/RNBQKBNR b KQkq - 0 2          116\n",
      "cxb5   rnbqkbnr/p3pppp/2p5/1P6/2pP4/4P3/1P3PPP/RNBQKBNR b KQkq - 0 5       101\n",
      "Nxe5   r1bqkbnr/pppp1ppp/2n5/4P3/4P3/8/PPPP2PP/RNBQKBNR b KQkq - 0 3        81\n",
      "Bxf7+  r1bqkbnr/pppp1ppp/2n5/4p3/2B1P3/8/PPPP1PPP/RNBQK1NR w KQkq - 2 3     79\n",
      "dtype: int64\n",
      "---\n",
      "Elo: (1800,2000]\n",
      "Move  FEN                                                            \n",
      "Bg4   rnbqkbnr/ppp1pppp/8/3P4/8/8/PPPP1PPP/RNBQKBNR b KQkq - 0 2         77\n",
      "Bc4   rnbqkbnr/ppp1pppp/8/3p4/4P3/8/PPPP1PPP/RNBQKBNR w KQkq - 0 2       60\n",
      "c5    r1b1kbnr/pppp1ppp/8/4P3/1n1N4/2N5/PqPBPPPP/R2QKB1R b KQkq - 3 7    48\n",
      "Bc3   r1b1kbnr/pppp1ppp/2n5/4P3/8/5N2/PqPBPPPP/RN1QKB1R w KQkq - 0 6     47\n",
      "fxe5  r1bqkbnr/pppp1ppp/2n5/4p3/4PP2/8/PPPP2PP/RNBQKBNR w KQkq - 1 3     47\n",
      "dtype: int64\n",
      "---\n",
      "Elo: (2000,2200]\n",
      "Move   FEN                                                              \n",
      "Bg4    rnbqkbnr/ppp1pppp/8/3P4/8/8/PPPP1PPP/RNBQKBNR b KQkq - 0 2           30\n",
      "Bg5    rnbqkbnr/pppp1ppp/4p3/8/3P4/8/PPP1PPPP/RNBQKBNR w KQkq - 0 2         21\n",
      "Bxf2+  rnbqk1nr/pppp1ppp/8/2b1p3/2B1P3/5N2/PPPP1PPP/RNBQK2R b KQkq - 3 3    15\n",
      "Bh3    rnbqkbnr/ppp1pppp/8/3p4/8/6P1/PPPPPPBP/RNBQK1NR b KQkq - 1 2         15\n",
      "c5     r1b1kbnr/pppp1ppp/8/4P3/1n1N4/2N5/PqPBPPPP/R2QKB1R b KQkq - 3 7      14\n",
      "dtype: int64\n",
      "---\n",
      "Elo: (2200,2400]\n",
      "Move  FEN                                                          \n",
      "Bg4   rnbqkbnr/ppp1pppp/8/3P4/8/8/PPPP1PPP/RNBQKBNR b KQkq - 0 2       14\n",
      "Bh6   rnbqkbnr/pppppp1p/6p1/8/3P4/8/PPP1PPPP/RNBQKBNR w KQkq - 0 2      7\n",
      "Bg2   rnbqkbnr/pppp1ppp/8/8/4p3/5NP1/PPPPPP1P/RNBQKB1R w KQkq - 0 3     7\n",
      "Bh3   rnbqkbnr/ppp1pppp/8/3p4/8/6P1/PPPPPPBP/RNBQK1NR b KQkq - 1 2      6\n",
      "Bf4   rnbqkbnr/pppp1ppp/8/4p3/3P4/8/PPP1PPPP/RNBQKBNR w KQkq - 0 2      6\n",
      "dtype: int64\n",
      "---\n",
      "Elo: (2400,2600]\n",
      "Move  FEN                                                           \n",
      "h5    rnbq1rk1/pppp1pbp/5np1/8/4p2P/5NP1/PPPPPPB1/RNBQ1RK1 w - - 0 7    4\n",
      "Bg4   rnbqkbnr/ppp1pppp/8/3P4/8/8/PPPP1PPP/RNBQKBNR b KQkq - 0 2        3\n",
      "hxg6  rnbq1rk1/pppp1pbp/5np1/7P/8/5pP1/PPPPPPB1/RNBQ1RK1 w - - 0 8      3\n",
      "Nxd4  r1b1kbnr/pp3ppp/3qp3/8/2Bn4/1N6/PPP2PPP/R1BQK2R w KQkq - 0 9      2\n",
      "Qxe4  r4rk1/1p1q2pp/2p5/2b5/2P1n3/8/PP1PQPPP/R1B2RK1 w - - 0 16         2\n",
      "dtype: int64\n",
      "---\n"
     ]
    }
   ],
   "source": [
    "for low_thr in range(600,2600,200):\n",
    "    vc = grouped_by_elo.get_group(pd.Interval(low_thr, low_thr+200, closed='right')).value_counts(['Move', 'FEN'])\n",
    "    #with pd.option_context('display.max_rows', 8):\n",
    "    print(f\"Elo: ({low_thr},{low_thr+200}]\")\n",
    "    print(vc[vc>1].head(5))\n",
    "    print(\"---\")"
   ]
  },
  {
   "cell_type": "markdown",
   "metadata": {},
   "source": [
    "# Explore by Date"
   ]
  },
  {
   "cell_type": "code",
   "execution_count": 5,
   "metadata": {},
   "outputs": [
    {
     "data": {
      "text/plain": [
       "Elo           Date      \n",
       "(600, 800]    2020-01-01    2849\n",
       "              2020-02-01    2982\n",
       "              2020-03-01    2269\n",
       "              2020-04-01    2765\n",
       "              2020-05-01    2970\n",
       "                            ... \n",
       "(2600, 2800]  2020-08-01    1571\n",
       "              2020-09-01     769\n",
       "              2020-10-01     956\n",
       "              2020-11-01     914\n",
       "              2020-12-01     895\n",
       "Length: 132, dtype: int64"
      ]
     },
     "execution_count": 5,
     "metadata": {},
     "output_type": "execute_result"
    }
   ],
   "source": [
    "grouped_by_elo = df_data.groupby( [pd.cut(df_data['Elo'], np.arange(600, 3000, 200)),'Date'] )\n",
    "grouped_by_elo.size()"
   ]
  },
  {
   "cell_type": "code",
   "execution_count": null,
   "metadata": {
    "scrolled": false
   },
   "outputs": [],
   "source": [
    "for low_thr in range(600,2600,200):\n",
    "    #for date in grouped_by_elo.Date.unique():\n",
    "    #for date in set([tup[1] for tup in list(grouped_by_elo.groups.keys())]):\n",
    "    for date in [pd.Timestamp('2020-02-01 00:00:00'),pd.Timestamp('2021-04-01 00:00:00')]:\n",
    "        vc = grouped_by_elo.get_group((pd.Interval(low_thr, low_thr+200, closed='right'),date)).value_counts(['Move', 'FEN'])\n",
    "        print(f\"Date: {date}. Elo: ({low_thr},{low_thr+200}]\")\n",
    "        print(vc[vc>1].head(5))\n",
    "    print(\"---\")"
   ]
  },
  {
   "cell_type": "markdown",
   "metadata": {},
   "source": [
    "# Explore by plots"
   ]
  },
  {
   "cell_type": "code",
   "execution_count": 7,
   "metadata": {},
   "outputs": [
    {
     "data": {
      "text/plain": [
       "<AxesSubplot:>"
      ]
     },
     "execution_count": 7,
     "metadata": {},
     "output_type": "execute_result"
    },
    {
     "data": {
      "image/png": "[encoded data removed]",
      "text/plain": [
       "<Figure size 432x288 with 1 Axes>"
      ]
     },
     "metadata": {
      "needs_background": "light"
     },
     "output_type": "display_data"
    }
   ],
   "source": [
    "vc = df_data.Move.value_counts()\n",
    "vc[vc>50000].plot(kind='bar')"
   ]
  },
  {
   "cell_type": "code",
   "execution_count": 8,
   "metadata": {
    "scrolled": false
   },
   "outputs": [
    {
     "data": {
      "image/png": "[encoded data removed]",
      "text/plain": [
       "<Figure size 432x288 with 1 Axes>"
      ]
     },
     "metadata": {
      "needs_background": "light"
     },
     "output_type": "display_data"
    }
   ],
   "source": [
    "s = df_data.groupby(['Date','Move']).size().sort_values(ascending=False).to_frame('size')\n",
    "s = s.reset_index().set_index('Date').sort_index()\n",
    "\n",
    "s = s.drop(index=pd.Timestamp('2020-09-01 00:00:00')) #TODO: check processing on this month\n",
    "\n",
    "data_dict = {}\n",
    "for move, group in s[s['size']>5000].groupby('Move'):\n",
    "    data_dict[move] = {'date': [], 'size': []}\n",
    "    data_dict[move]['date'] = [t.to_pydatetime() for t in group.index]\n",
    "    data_dict[move]['size'] = group['size'].to_list()\n",
    "    #plt.plot(x,y, label=move)\n",
    "\n",
    "sorted_data = sorted(data_dict.items(), key = lambda kv:data_dict[kv[0]]['size'][-1], reverse=True)\n",
    "\n",
    "for row in sorted_data:\n",
    "    move = row[0]\n",
    "    x = row[1]['date']\n",
    "    y = row[1]['size']\n",
    "    plt.plot(x,y, label=move)\n",
    "\n",
    "plt.legend(loc='right', bbox_to_anchor=(1.5,0.5))\n",
    "plt.ylim()\n",
    "plt.show()"
   ]
  }
 ],
 "metadata": {
  "kernelspec": {
   "display_name": "venv",
   "language": "python",
   "name": "venv"
  },
  "language_info": {
   "codemirror_mode": {
    "name": "ipython",
    "version": 3
   },
   "file_extension": ".py",
   "mimetype": "text/x-python",
   "name": "python",
   "nbconvert_exporter": "python",
   "pygments_lexer": "ipython3",
   "version": "3.7.3"
  }
 },
 "nbformat": 4,
 "nbformat_minor": 2
}
