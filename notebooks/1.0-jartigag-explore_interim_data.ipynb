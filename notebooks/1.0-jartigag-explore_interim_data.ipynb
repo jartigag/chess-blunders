{
 "cells": [
  {
   "cell_type": "code",
   "execution_count": 1,
   "metadata": {},
   "outputs": [],
   "source": [
    "import pandas as pd\n",
    "import numpy as np\n",
    "import matplotlib.pyplot as plt"
   ]
  },
  {
   "cell_type": "code",
   "execution_count": 2,
   "metadata": {
    "scrolled": true
   },
   "outputs": [
    {
     "name": "stdout",
     "output_type": "stream",
     "text": [
      "2021-04: 307673 rows\n",
      "2020-02: 785708 rows\n"
     ]
    },
    {
     "data": {
      "text/html": [
       "<div>\n",
       "<style scoped>\n",
       "    .dataframe tbody tr th:only-of-type {\n",
       "        vertical-align: middle;\n",
       "    }\n",
       "\n",
       "    .dataframe tbody tr th {\n",
       "        vertical-align: top;\n",
       "    }\n",
       "\n",
       "    .dataframe thead th {\n",
       "        text-align: right;\n",
       "    }\n",
       "</style>\n",
       "<table border=\"1\" class=\"dataframe\">\n",
       "  <thead>\n",
       "    <tr style=\"text-align: right;\">\n",
       "      <th></th>\n",
       "      <th>Move</th>\n",
       "      <th>FEN</th>\n",
       "      <th>Turn</th>\n",
       "      <th>Elo</th>\n",
       "      <th>TimeControl</th>\n",
       "      <th>ElapsedSeconds</th>\n",
       "      <th>Date</th>\n",
       "    </tr>\n",
       "  </thead>\n",
       "  <tbody>\n",
       "    <tr>\n",
       "      <th>0</th>\n",
       "      <td>Bg4</td>\n",
       "      <td>rnbqkbnr/pp2pppp/2p5/3p4/3P1B2/4P3/PPP2PPP/RN1...</td>\n",
       "      <td>3</td>\n",
       "      <td>1402</td>\n",
       "      <td>600+0</td>\n",
       "      <td>594.0</td>\n",
       "      <td>2021-04-01</td>\n",
       "    </tr>\n",
       "    <tr>\n",
       "      <th>1</th>\n",
       "      <td>Nf3</td>\n",
       "      <td>rn1qkbnr/pp2pppp/2p5/3p4/3P1Bb1/4P3/PPP2PPP/RN...</td>\n",
       "      <td>4</td>\n",
       "      <td>1355</td>\n",
       "      <td>600+0</td>\n",
       "      <td>593.0</td>\n",
       "      <td>2021-04-01</td>\n",
       "    </tr>\n",
       "    <tr>\n",
       "      <th>2</th>\n",
       "      <td>Ng5</td>\n",
       "      <td>r2q1rk1/1pp3pp/p2b4/5p2/3Qb3/5N2/PPP2PPP/R1B1R...</td>\n",
       "      <td>13</td>\n",
       "      <td>1899</td>\n",
       "      <td>600+0</td>\n",
       "      <td>554.0</td>\n",
       "      <td>2021-04-01</td>\n",
       "    </tr>\n",
       "    <tr>\n",
       "      <th>3</th>\n",
       "      <td>Bh6</td>\n",
       "      <td>rnbqkbnr/pp2pp1p/3p2p1/2p5/2B1P3/3P1Q2/PPP2PPP...</td>\n",
       "      <td>4</td>\n",
       "      <td>1345</td>\n",
       "      <td>600+0</td>\n",
       "      <td>576.0</td>\n",
       "      <td>2021-04-01</td>\n",
       "    </tr>\n",
       "    <tr>\n",
       "      <th>4</th>\n",
       "      <td>Bb5+</td>\n",
       "      <td>rnbqk1nr/pp2pp1p/3p2pb/2p5/2B1P3/3P1Q2/PPP2PPP...</td>\n",
       "      <td>5</td>\n",
       "      <td>1500</td>\n",
       "      <td>600+0</td>\n",
       "      <td>550.0</td>\n",
       "      <td>2021-04-01</td>\n",
       "    </tr>\n",
       "  </tbody>\n",
       "</table>\n",
       "</div>"
      ],
      "text/plain": [
       "   Move                                                FEN  Turn   Elo  \\\n",
       "0   Bg4  rnbqkbnr/pp2pppp/2p5/3p4/3P1B2/4P3/PPP2PPP/RN1...     3  1402   \n",
       "1   Nf3  rn1qkbnr/pp2pppp/2p5/3p4/3P1Bb1/4P3/PPP2PPP/RN...     4  1355   \n",
       "2   Ng5  r2q1rk1/1pp3pp/p2b4/5p2/3Qb3/5N2/PPP2PPP/R1B1R...    13  1899   \n",
       "3   Bh6  rnbqkbnr/pp2pp1p/3p2p1/2p5/2B1P3/3P1Q2/PPP2PPP...     4  1345   \n",
       "4  Bb5+  rnbqk1nr/pp2pp1p/3p2pb/2p5/2B1P3/3P1Q2/PPP2PPP...     5  1500   \n",
       "\n",
       "  TimeControl  ElapsedSeconds       Date  \n",
       "0       600+0           594.0 2021-04-01  \n",
       "1       600+0           593.0 2021-04-01  \n",
       "2       600+0           554.0 2021-04-01  \n",
       "3       600+0           576.0 2021-04-01  \n",
       "4       600+0           550.0 2021-04-01  "
      ]
     },
     "execution_count": 2,
     "metadata": {},
     "output_type": "execute_result"
    }
   ],
   "source": [
    "import glob\n",
    "\n",
    "df_data202104 = pd.concat(map(pd.read_csv,\n",
    "                        glob.glob('../data/interim/*lichess_db_standard_rated_2021-04*eval.blunders.csv')))\n",
    "print(\"2021-04:\",len(df_data202104),\"rows\")\n",
    "df_data202104['Date'] = pd.to_datetime('2021-04')\n",
    "\n",
    "df_data202002 = pd.concat(map(pd.read_csv,\n",
    "                        glob.glob('../data/interim/*lichess_db_standard_rated_2020-02*eval.blunders.csv')))\n",
    "print(\"2020-02:\",len(df_data202002),\"rows\")\n",
    "df_data202002['Date'] = pd.to_datetime('2020-02')\n",
    "\n",
    "df_data = pd.concat([df_data202104, df_data202002])\n",
    "\n",
    "df_data.head()"
   ]
  },
  {
   "cell_type": "markdown",
   "metadata": {},
   "source": [
    "# Explore by Elo"
   ]
  },
  {
   "cell_type": "code",
   "execution_count": 3,
   "metadata": {},
   "outputs": [
    {
     "data": {
      "text/plain": [
       "Elo\n",
       "(600, 800]       12403\n",
       "(800, 1000]      67233\n",
       "(1000, 1200]    161753\n",
       "(1200, 1400]    218061\n",
       "(1400, 1600]    238464\n",
       "(1600, 1800]    188409\n",
       "(1800, 2000]    123632\n",
       "(2000, 2200]     57597\n",
       "(2200, 2400]     18173\n",
       "(2400, 2600]      5270\n",
       "(2600, 2800]      1578\n",
       "dtype: int64"
      ]
     },
     "execution_count": 3,
     "metadata": {},
     "output_type": "execute_result"
    }
   ],
   "source": [
    "grouped_by_elo = df_data.groupby( pd.cut(df_data['Elo'], np.arange(600, 3000, 200)) )\n",
    "grouped_by_elo.size()"
   ]
  },
  {
   "cell_type": "code",
   "execution_count": 4,
   "metadata": {
    "scrolled": false
   },
   "outputs": [
    {
     "name": "stdout",
     "output_type": "stream",
     "text": [
      "Elo: (600,800]\n",
      "Move  FEN                                                              \n",
      "g6    rnbqkbnr/pppp1ppp/8/4p2Q/4P3/8/PPPP1PPP/RNB1KBNR b KQkq - 1 2        18\n",
      "Nxe5  r1bqkbnr/pppp1ppp/2n5/4p3/4P3/5N2/PPPP1PPP/RNBQKB1R w KQkq - 2 3      5\n",
      "g6    rnbqk1nr/pppp1ppp/8/2b1p2Q/2B1P3/8/PPPP1PPP/RNB1K1NR b KQkq - 3 3     3\n",
      "Qh4   rnbqkbnr/pppp1ppp/8/4p3/4P3/5N2/PPPP1PPP/RNBQKB1R b KQkq - 1 2        3\n",
      "dxe5  rnbqkbnr/ppp2ppp/3p4/4P3/4P3/8/PPPP2PP/RNBQKBNR b KQkq - 0 3          3\n",
      "dtype: int64\n",
      "---\n",
      "Elo: (800,1000]\n",
      "Move  FEN                                                                 \n",
      "g6    rnbqkbnr/pppp1ppp/8/4p2Q/4P3/8/PPPP1PPP/RNB1KBNR b KQkq - 1 2           60\n",
      "Nd4   r1bqkbnr/pppp1ppp/2n5/3Pp3/4P3/8/PPP2PPP/RNBQKBNR b KQkq - 0 3          16\n",
      "Nxd5  r1bqkb1r/ppp2ppp/2n2n2/3Pp3/2B5/2N2N2/PPPP1PPP/R1BQK2R b KQkq - 0 5     15\n",
      "g4    r1bqkb1r/pppp1ppp/2n2n2/4p3/2B1P3/5Q2/PPPP1PPP/RNB1K1NR w KQkq - 4 4    14\n",
      "Bc4   rnbqkbnr/ppp1pppp/8/3p4/4P3/8/PPPP1PPP/RNBQKBNR w KQkq - 0 2            12\n",
      "dtype: int64\n",
      "---\n",
      "Elo: (1000,1200]\n",
      "Move  FEN                                                                 \n",
      "g6    rnbqkbnr/pppp1ppp/8/4p2Q/4P3/8/PPPP1PPP/RNB1KBNR b KQkq - 1 2           78\n",
      "Ng5   r1bqk1nr/pppp1ppp/2n5/2b1p3/2B1P3/5N2/PPPP1PPP/RNBQK2R w KQkq - 4 4     37\n",
      "Nd4   r1bqkbnr/pppp1ppp/2n5/3Pp3/4P3/8/PPP2PPP/RNBQKBNR b KQkq - 0 3          37\n",
      "      rnbqkbnr/ppp1pppp/8/8/4p3/5N2/PPPP1PPP/RNBQKB1R w KQkq - 0 3            30\n",
      "Nh3   r1bqkb1r/pppp1ppp/2n2n2/4p3/2B1P3/5Q2/PPPP1PPP/RNB1K1NR w KQkq - 4 4    25\n",
      "dtype: int64\n",
      "---\n",
      "Elo: (1200,1400]\n",
      "Move  FEN                                                                \n",
      "Ng5   r1bqk1nr/pppp1ppp/2n5/2b1p3/2B1P3/5N2/PPPP1PPP/RNBQK2R w KQkq - 4 4    41\n",
      "Bc4   rnbqkbnr/ppp1pppp/8/3p4/4P3/8/PPPP1PPP/RNBQKBNR w KQkq - 0 2           40\n",
      "g6    rnbqkbnr/pppp1ppp/8/4p2Q/4P3/8/PPPP1PPP/RNB1KBNR b KQkq - 1 2          37\n",
      "fxe5  r1bqkbnr/pppp1ppp/2n5/4p3/4PP2/8/PPPP2PP/RNBQKBNR w KQkq - 1 3         29\n",
      "Nxe5  r1bqkbnr/pppp1ppp/2n5/4P3/4P3/8/PPPP2PP/RNBQKBNR b KQkq - 0 3          27\n",
      "dtype: int64\n",
      "---\n",
      "Elo: (1400,1600]\n",
      "Move  FEN                                                                \n",
      "Ng5   r1bqk1nr/pppp1ppp/2n5/2b1p3/2B1P3/5N2/PPPP1PPP/RNBQK2R w KQkq - 4 4    35\n",
      "Bc4   rnbqkbnr/ppp1pppp/8/3p4/4P3/8/PPPP1PPP/RNBQKBNR w KQkq - 0 2           29\n",
      "fxe5  r1bqkbnr/pppp1ppp/2n5/4p3/4PP2/8/PPPP2PP/RNBQKBNR w KQkq - 1 3         29\n",
      "cxb5  rnbqkbnr/p3pppp/2p5/1P6/2pP4/4P3/1P3PPP/RNBQKBNR b KQkq - 0 5          26\n",
      "Nd4   r1bqkbnr/pppp1ppp/2n5/3Pp3/4P3/8/PPP2PPP/RNBQKBNR b KQkq - 0 3         25\n",
      "dtype: int64\n",
      "---\n",
      "Elo: (1600,1800]\n",
      "Move   FEN                                                             \n",
      "cxb5   rnbqkbnr/p3pppp/2p5/1P6/2pP4/4P3/1P3PPP/RNBQKBNR b KQkq - 0 5       19\n",
      "Bxf7+  r1bqkbnr/pppp1ppp/2n5/4p3/2B1P3/8/PPPP1PPP/RNBQK1NR w KQkq - 2 3    18\n",
      "Bg4    rnbqkbnr/ppp1pppp/8/3P4/8/8/PPPP1PPP/RNBQKBNR b KQkq - 0 2          18\n",
      "Bc4    rnbqkbnr/ppp1pppp/8/3p4/4P3/8/PPPP1PPP/RNBQKBNR w KQkq - 0 2        18\n",
      "Bc3    r1b1kbnr/pppp1ppp/2n5/4P3/8/5N2/PqPBPPPP/RN1QKB1R w KQkq - 0 6      17\n",
      "dtype: int64\n",
      "---\n",
      "Elo: (1800,2000]\n",
      "Move  FEN                                                            \n",
      "Bc4   rnbqkbnr/ppp1pppp/8/3p4/4P3/8/PPPP1PPP/RNBQKBNR w KQkq - 0 2       16\n",
      "Bg4   rnbqkbnr/ppp1pppp/8/3P4/8/8/PPPP1PPP/RNBQKBNR b KQkq - 0 2         14\n",
      "c5    r1b1kbnr/pppp1ppp/8/4P3/1n1N4/2N5/PqPBPPPP/R2QKB1R b KQkq - 3 7     9\n",
      "Bf4   rnbqkbnr/pppp1ppp/8/4p3/3P4/8/PPP1PPPP/RNBQKBNR w KQkq - 0 2        8\n",
      "fxe5  rnbqkbnr/ppp2ppp/8/3pp3/4PP2/8/PPPP2PP/RNBQKBNR w KQkq - 0 3        8\n",
      "dtype: int64\n",
      "---\n",
      "Elo: (2000,2200]\n",
      "Move   FEN                                                                 \n",
      "Bg4    rnbqkbnr/ppp1pppp/8/3P4/8/8/PPPP1PPP/RNBQKBNR b KQkq - 0 2              8\n",
      "exf4   r1bqk1nr/ppp2ppp/2nb4/1B1pp3/5P2/1P2P3/PBPP2PP/RN1QK1NR b KQkq - 0 5    7\n",
      "Bxf2+  rnbqk1nr/pppp1ppp/8/2b1p3/2B1P3/5N2/PPPP1PPP/RNBQK2R b KQkq - 3 3       5\n",
      "Qxf6   r2qk2r/ppp2ppp/2n1bP2/2b3N1/2pp4/8/PPP2PPP/RNBQR1K1 b kq - 3 9          4\n",
      "Bg4    rnbqkb1r/pp2pppp/2p2n2/8/2BP4/2N2N2/PPP3PP/R1BQK2R b KQkq - 0 6         4\n",
      "dtype: int64\n",
      "---\n",
      "Elo: (2200,2400]\n",
      "Move  FEN                                                                \n",
      "a6    r1bqkb1r/pp1npppp/8/1B1PN3/8/2P5/P4PPP/R1BQK2R b KQkq - 2 11           2\n",
      "Nxe5  rnbqkbnr/pp1p1ppp/8/4p3/2Pp4/5N2/PP2PPPP/RNBQKB1R w KQkq - 0 4         2\n",
      "Qxf6  r2qk2r/ppp2ppp/2n1bP2/2b3N1/2pp4/8/PPP2PPP/RNBQR1K1 b kq - 3 9         2\n",
      "Qc6   r1b1kbr1/1pqp1p2/p3p2p/2pN3Q/P5n1/1B1P4/1PP2PP1/R1B1R1K1 b q - 5 15    2\n",
      "Qh5   rnbqk2r/pp2bppp/2p1p3/1B1pN3/3PnP2/8/PPP3PP/RNBQK2R w KQkq - 0 7       2\n",
      "dtype: int64\n",
      "---\n",
      "Elo: (2400,2600]\n",
      "Move   FEN                                                                \n",
      "Bxf7+  r1bqk1nr/pppp1ppp/2n5/2b1p3/2B1P3/5N2/PPPP1PPP/RNBQK2R w KQkq - 4 4    2\n",
      "dtype: int64\n",
      "---\n"
     ]
    }
   ],
   "source": [
    "for low_thr in range(600,2600,200):\n",
    "    vc = grouped_by_elo.get_group(pd.Interval(low_thr, low_thr+200, closed='right')).value_counts(['Move', 'FEN'])\n",
    "    #with pd.option_context('display.max_rows', 8):\n",
    "    print(f\"Elo: ({low_thr},{low_thr+200}]\")\n",
    "    print(vc[vc>1].head(5))\n",
    "    print(\"---\")"
   ]
  },
  {
   "cell_type": "markdown",
   "metadata": {},
   "source": [
    "# Explore by Date"
   ]
  },
  {
   "cell_type": "code",
   "execution_count": 5,
   "metadata": {},
   "outputs": [
    {
     "data": {
      "text/plain": [
       "Elo           Date      \n",
       "(600, 800]    2020-02-01      2982\n",
       "              2021-04-01      9421\n",
       "(800, 1000]   2020-02-01     31039\n",
       "              2021-04-01     36194\n",
       "(1000, 1200]  2020-02-01    100616\n",
       "              2021-04-01     61137\n",
       "(1200, 1400]  2020-02-01    150361\n",
       "              2021-04-01     67700\n",
       "(1400, 1600]  2020-02-01    178206\n",
       "              2021-04-01     60258\n",
       "(1600, 1800]  2020-02-01    150068\n",
       "              2021-04-01     38341\n",
       "(1800, 2000]  2020-02-01    102312\n",
       "              2021-04-01     21320\n",
       "(2000, 2200]  2020-02-01     48846\n",
       "              2021-04-01      8751\n",
       "(2200, 2400]  2020-02-01     15155\n",
       "              2021-04-01      3018\n",
       "(2400, 2600]  2020-02-01      4326\n",
       "              2021-04-01       944\n",
       "(2600, 2800]  2020-02-01      1414\n",
       "              2021-04-01       164\n",
       "dtype: int64"
      ]
     },
     "execution_count": 5,
     "metadata": {},
     "output_type": "execute_result"
    }
   ],
   "source": [
    "grouped_by_elo = df_data.groupby( [pd.cut(df_data['Elo'], np.arange(600, 3000, 200)),'Date'] )\n",
    "grouped_by_elo.size()"
   ]
  },
  {
   "cell_type": "code",
   "execution_count": 6,
   "metadata": {
    "scrolled": false
   },
   "outputs": [
    {
     "name": "stdout",
     "output_type": "stream",
     "text": [
      "Date: 2020-02-01 00:00:00. Elo: (600,800]\n",
      "Move  FEN                                                             \n",
      "g6    rnbqkbnr/pppp1ppp/8/4p2Q/4P3/8/PPPP1PPP/RNB1KBNR b KQkq - 1 2       3\n",
      "Nc6   rn1qkbnr/ppp1pppp/8/3p1b2/2PP4/2N5/PP2PPPP/R1BQKBNR b KQkq - 2 3    2\n",
      "dtype: int64\n",
      "Date: 2021-04-01 00:00:00. Elo: (600,800]\n",
      "Move  FEN                                                             \n",
      "g6    rnbqkbnr/pppp1ppp/8/4p2Q/4P3/8/PPPP1PPP/RNB1KBNR b KQkq - 1 2       15\n",
      "Nxe5  r1bqkbnr/pppp1ppp/2n5/4p3/4P3/5N2/PPPP1PPP/RNBQKB1R w KQkq - 2 3     5\n",
      "g5    rnbqkbnr/ppppp1pp/5p2/8/3PP3/8/PPP2PPP/RNBQKBNR b KQkq - 0 2         3\n",
      "f3    rnbqkb1r/pppp1ppp/8/4N3/4n3/8/PPPP1PPP/RNBQKB1R w KQkq - 0 4         3\n",
      "dxe5  rnbqkbnr/ppp2ppp/3p4/4P3/4P3/8/PPPP2PP/RNBQKBNR b KQkq - 0 3         3\n",
      "dtype: int64\n",
      "---\n",
      "Date: 2020-02-01 00:00:00. Elo: (800,1000]\n",
      "Move  FEN                                                                 \n",
      "g6    rnbqkbnr/pppp1ppp/8/4p2Q/4P3/8/PPPP1PPP/RNB1KBNR b KQkq - 1 2           27\n",
      "Ng5   r1bqk1nr/pppp1ppp/2n5/2b1p3/2B1P3/5N2/PPPP1PPP/RNBQK2R w KQkq - 4 4      6\n",
      "g4    r1bqkb1r/pppp1ppp/2n2n2/4p3/2B1P3/5Q2/PPPP1PPP/RNB1K1NR w KQkq - 4 4     5\n",
      "Nf6   r1bqkbnr/pppp1ppp/2n5/4p2Q/2B1P3/8/PPPP1PPP/RNB1K1NR b KQkq - 3 3        5\n",
      "Nxd5  r1bqkb1r/ppp2ppp/2n2n2/3Pp3/2B5/2N2N2/PPPP1PPP/R1BQK2R b KQkq - 0 5      5\n",
      "dtype: int64\n",
      "Date: 2021-04-01 00:00:00. Elo: (800,1000]\n",
      "Move  FEN                                                                 \n",
      "g6    rnbqkbnr/pppp1ppp/8/4p2Q/4P3/8/PPPP1PPP/RNB1KBNR b KQkq - 1 2           33\n",
      "Nd4   r1bqkbnr/pppp1ppp/2n5/3Pp3/4P3/8/PPP2PPP/RNBQKBNR b KQkq - 0 3          16\n",
      "Nxe5  r1bqkbnr/pppp1ppp/2n5/4p3/4P3/5N2/PPPP1PPP/RNBQKB1R w KQkq - 2 3        10\n",
      "Nxd5  r1bqkb1r/ppp2ppp/2n2n2/3Pp3/2B5/2N2N2/PPPP1PPP/R1BQK2R b KQkq - 0 5     10\n",
      "g4    r1bqkb1r/pppp1ppp/2n2n2/4p3/2B1P3/5Q2/PPPP1PPP/RNB1K1NR w KQkq - 4 4     9\n",
      "dtype: int64\n",
      "---\n",
      "Date: 2020-02-01 00:00:00. Elo: (1000,1200]\n",
      "Move  FEN                                                                 \n",
      "g6    rnbqkbnr/pppp1ppp/8/4p2Q/4P3/8/PPPP1PPP/RNB1KBNR b KQkq - 1 2           47\n",
      "Nxe5  r1bqkbnr/pppp1ppp/2n5/4P3/4P3/8/PPPP2PP/RNBQKBNR b KQkq - 0 3           15\n",
      "Ng5   r1bqk1nr/pppp1ppp/2n5/2b1p3/2B1P3/5N2/PPPP1PPP/RNBQK2R w KQkq - 4 4     14\n",
      "Nh3   r1bqkb1r/pppp1ppp/2n2n2/4p3/2B1P3/5Q2/PPPP1PPP/RNB1K1NR w KQkq - 4 4    14\n",
      "Nd4   rnbqkbnr/ppp1pppp/8/8/4p3/5N2/PPPP1PPP/RNBQKB1R w KQkq - 0 3            12\n",
      "dtype: int64\n",
      "Date: 2021-04-01 00:00:00. Elo: (1000,1200]\n",
      "Move  FEN                                                                 \n",
      "Nd4   r1bqkbnr/pppp1ppp/2n5/3Pp3/4P3/8/PPP2PPP/RNBQKBNR b KQkq - 0 3          37\n",
      "g6    rnbqkbnr/pppp1ppp/8/4p2Q/4P3/8/PPPP1PPP/RNB1KBNR b KQkq - 1 2           31\n",
      "Ng5   r1bqk1nr/pppp1ppp/2n5/2b1p3/2B1P3/5N2/PPPP1PPP/RNBQK2R w KQkq - 4 4     23\n",
      "Nd4   rnbqkbnr/ppp1pppp/8/8/4p3/5N2/PPPP1PPP/RNBQKB1R w KQkq - 0 3            18\n",
      "g4    r1bqkb1r/pppp1ppp/2n2n2/4p3/2B1P3/5Q2/PPPP1PPP/RNB1K1NR w KQkq - 4 4    16\n",
      "dtype: int64\n",
      "---\n",
      "Date: 2020-02-01 00:00:00. Elo: (1200,1400]\n",
      "Move  FEN                                                                \n",
      "fxe5  r1bqkbnr/pppp1ppp/2n5/4p3/4PP2/8/PPPP2PP/RNBQKBNR w KQkq - 1 3         20\n",
      "g6    rnbqkbnr/pppp1ppp/8/4p2Q/4P3/8/PPPP1PPP/RNB1KBNR b KQkq - 1 2          20\n",
      "Ng5   r1bqk1nr/pppp1ppp/2n5/2b1p3/2B1P3/5N2/PPPP1PPP/RNBQK2R w KQkq - 4 4    19\n",
      "Bc4   rnbqkbnr/ppp1pppp/8/3p4/4P3/8/PPPP1PPP/RNBQKBNR w KQkq - 0 2           17\n",
      "Nxe5  r1bqkbnr/pppp1ppp/2n5/4P3/4P3/8/PPPP2PP/RNBQKBNR b KQkq - 0 3          14\n",
      "dtype: int64\n",
      "Date: 2021-04-01 00:00:00. Elo: (1200,1400]\n",
      "Move  FEN                                                                \n",
      "Bc4   rnbqkbnr/ppp1pppp/8/3p4/4P3/8/PPPP1PPP/RNBQKBNR w KQkq - 0 2           23\n",
      "Ng5   r1bqk1nr/pppp1ppp/2n5/2b1p3/2B1P3/5N2/PPPP1PPP/RNBQK2R w KQkq - 4 4    22\n",
      "Nd4   r1bqkbnr/pppp1ppp/2n5/3Pp3/4P3/8/PPP2PPP/RNBQKBNR b KQkq - 0 3         20\n",
      "g6    rnbqkbnr/pppp1ppp/8/4p2Q/4P3/8/PPPP1PPP/RNB1KBNR b KQkq - 1 2          17\n",
      "Nd4   rnbqkbnr/ppp1pppp/8/8/4p3/5N2/PPPP1PPP/RNBQKB1R w KQkq - 0 3           15\n",
      "dtype: int64\n",
      "---\n",
      "Date: 2020-02-01 00:00:00. Elo: (1400,1600]\n",
      "Move  FEN                                                                \n",
      "Bc4   rnbqkbnr/ppp1pppp/8/3p4/4P3/8/PPPP1PPP/RNBQKBNR w KQkq - 0 2           17\n",
      "cxb5  rnbqkbnr/p3pppp/2p5/1P6/2pP4/4P3/1P3PPP/RNBQKBNR b KQkq - 0 5          16\n",
      "Ng5   r1bqk1nr/pppp1ppp/2n5/2b1p3/2B1P3/5N2/PPPP1PPP/RNBQK2R w KQkq - 4 4    15\n",
      "fxe5  rnbqkbnr/pppp2pp/5p2/4P3/4P3/8/PPP2PPP/RNBQKBNR b KQkq - 0 3           13\n",
      "      r1bqkbnr/pppp1ppp/2n5/4p3/4PP2/8/PPPP2PP/RNBQKBNR w KQkq - 1 3         12\n",
      "dtype: int64\n",
      "Date: 2021-04-01 00:00:00. Elo: (1400,1600]\n",
      "Move  FEN                                                                \n",
      "Nd4   r1bqkbnr/pppp1ppp/2n5/3Pp3/4P3/8/PPP2PPP/RNBQKBNR b KQkq - 0 3         25\n",
      "Ng5   r1bqk1nr/pppp1ppp/2n5/2b1p3/2B1P3/5N2/PPPP1PPP/RNBQK2R w KQkq - 4 4    20\n",
      "fxe5  r1bqkbnr/pppp1ppp/2n5/4p3/4PP2/8/PPPP2PP/RNBQKBNR w KQkq - 1 3         17\n",
      "Nxe5  r1bqkbnr/pppp1ppp/2n5/4P3/4P3/8/PPPP2PP/RNBQKBNR b KQkq - 0 3          14\n",
      "dxe7  rnbqk2r/ppp1nppp/3P4/2b5/8/5N2/PPP1PPPP/RNBQKB1R w KQkq - 1 5          13\n",
      "dtype: int64\n",
      "---\n",
      "Date: 2020-02-01 00:00:00. Elo: (1600,1800]\n",
      "Move   FEN                                                             \n",
      "Bxf7+  r1bqkbnr/pppp1ppp/2n5/4p3/2B1P3/8/PPPP1PPP/RNBQK1NR w KQkq - 2 3    14\n",
      "Bc4    rnbqkbnr/ppp1pppp/8/3p4/4P3/8/PPPP1PPP/RNBQKBNR w KQkq - 0 2        13\n",
      "cxb5   rnbqkbnr/p3pppp/2p5/1P6/2pP4/4P3/1P3PPP/RNBQKBNR b KQkq - 0 5       12\n",
      "Bg4    rnbqkbnr/ppp1pppp/8/3P4/8/8/PPPP1PPP/RNBQKBNR b KQkq - 0 2          10\n",
      "Bc3    r1b1kbnr/pppp1ppp/2n5/4P3/8/5N2/PqPBPPPP/RN1QKB1R w KQkq - 0 6       8\n",
      "dtype: int64\n",
      "Date: 2021-04-01 00:00:00. Elo: (1600,1800]\n",
      "Move  FEN                                                                \n",
      "O-O   r1bqk2r/ppp2ppp/2p5/2b5/2B1P1n1/2N5/PPPP1PPP/R1BQK2R w KQkq - 4 7      12\n",
      "Ng5   r1bqk1nr/pppp1ppp/2n5/2b1p3/2B1P3/5N2/PPPP1PPP/RNBQK2R w KQkq - 4 4    11\n",
      "Bc3   r1b1kbnr/pppp1ppp/2n5/4P3/8/5N2/PqPBPPPP/RN1QKB1R w KQkq - 0 6          9\n",
      "Bg4   rnbqkbnr/ppp1pppp/8/3P4/8/8/PPPP1PPP/RNBQKBNR b KQkq - 0 2              8\n",
      "e6    rn1qkbnr/pp2pppp/2p5/3pPb2/3P3P/8/PPP2PP1/RNBQKBNR b KQkq - 0 4         8\n",
      "dtype: int64\n",
      "---\n",
      "Date: 2020-02-01 00:00:00. Elo: (1800,2000]\n",
      "Move  FEN                                                            \n",
      "Bc4   rnbqkbnr/ppp1pppp/8/3p4/4P3/8/PPPP1PPP/RNBQKBNR w KQkq - 0 2       9\n",
      "Bg4   rnbqkbnr/ppp1pppp/8/3P4/8/8/PPPP1PPP/RNBQKBNR b KQkq - 0 2         8\n",
      "c5    r1b1kbnr/pppp1ppp/8/4P3/1n1N4/2N5/PqPBPPPP/R2QKB1R b KQkq - 3 7    6\n",
      "Nxe5  r1bqkbnr/pppp1ppp/2n5/4P3/4P3/8/PPPP2PP/RNBQKBNR b KQkq - 0 3      6\n",
      "Qxf6  r2qk2r/ppp2ppp/2n1bP2/2b3N1/2pp4/8/PPP2PPP/RNBQR1K1 b kq - 3 9     5\n",
      "dtype: int64\n",
      "Date: 2021-04-01 00:00:00. Elo: (1800,2000]\n",
      "Move   FEN                                                              \n",
      "Bxf7+  r1bqkbnr/pp1ppppp/2n5/2p5/2B1P3/8/PPPP1PPP/RNBQK1NR w KQkq - 2 3     7\n",
      "Bc4    rnbqkbnr/ppp1pppp/8/3p4/4P3/8/PPPP1PPP/RNBQKBNR w KQkq - 0 2         7\n",
      "Bg4    rnbqkbnr/ppp1pppp/8/3P4/8/8/PPPP1PPP/RNBQKBNR b KQkq - 0 2           6\n",
      "g6     r1b1k1nr/pppp1ppp/2n5/2bNp3/2B1P1Q1/8/PPPP1qPP/R1BK2NR b kq - 1 6    5\n",
      "Bc5    r1bqkbnr/pppp1ppp/2n5/4p3/3PP3/5N2/PPP2PPP/RNBQKB1R b KQkq - 0 3     5\n",
      "dtype: int64\n",
      "---\n",
      "Date: 2020-02-01 00:00:00. Elo: (2000,2200]\n",
      "Move   FEN                                                              \n",
      "Bg4    rnbqkbnr/ppp1pppp/8/3P4/8/8/PPPP1PPP/RNBQKBNR b KQkq - 0 2           6\n",
      "Bxa1   r1bqk2r/pppp1ppp/2n5/8/2BP4/1Qb2N2/P4PPP/R1B2RK1 b kq - 1 10         4\n",
      "Qxf6   r2qk2r/ppp2ppp/2n1bP2/2b3N1/2pp4/8/PPP2PPP/RNBQR1K1 b kq - 3 9       4\n",
      "Bxf2+  rnbqk1nr/pppp1ppp/8/2b1p3/2B1P3/5N2/PPPP1PPP/RNBQK2R b KQkq - 3 3    4\n",
      "Nxd4   r1bq1k1r/pppp1Bpp/2n5/8/3P4/1Q3N2/P4PPP/b1B1R1K1 b - - 0 12          3\n",
      "dtype: int64\n",
      "Date: 2021-04-01 00:00:00. Elo: (2000,2200]\n",
      "Move   FEN                                                                 \n",
      "Bg4    rnbqkb1r/pp2pppp/2p2n2/8/2BP4/2N2N2/PPP3PP/R1BQK2R b KQkq - 0 6         4\n",
      "exf4   r1bqk1nr/ppp2ppp/2nb4/1B1pp3/5P2/1P2P3/PBPP2PP/RN1QK1NR b KQkq - 0 5    4\n",
      "e6     rn1qkbnr/pp2pppp/2p5/3pPb2/3P3P/8/PPP2PP1/RNBQKBNR b KQkq - 0 4         3\n",
      "dxc3   r1b1k1nr/pppp1ppp/2n2q2/2b5/2BpP3/2P2N2/PP3PPP/RNBQ1RK1 b kq - 2 6      2\n",
      "Bxf2+  r1bqk2r/2pp1ppp/p1n2n2/1pb1N3/4P3/1B6/PPPP1PPP/RNBQ1RK1 b kq - 0 7      2\n",
      "dtype: int64\n",
      "---\n",
      "Date: 2020-02-01 00:00:00. Elo: (2200,2400]\n",
      "Move  FEN                                                                  \n",
      "Qh5   rnbqk2r/pp2bppp/2p1p3/1B1pN3/3PnP2/8/PPP3PP/RNBQK2R w KQkq - 0 7         2\n",
      "Bc5   r1bqkb1r/pppp1ppp/2n2n2/4p3/4PP2/2N2N2/PPPP2PP/R1BQKB1R b KQkq - 2 4     2\n",
      "Bc4   r1bqk2r/pppp1ppp/2n2n2/2b1p3/4PP2/2N2N2/PPPP2PP/R1BQKB1R w KQkq - 3 5    2\n",
      "a6    r1bqkb1r/pp1npppp/8/1B1PN3/8/2P5/P4PPP/R1BQK2R b KQkq - 2 11             2\n",
      "dtype: int64\n",
      "Date: 2021-04-01 00:00:00. Elo: (2200,2400]\n",
      "Move  FEN                                                                \n",
      "e6    rnbqkbnr/ppp1pppp/8/3p2B1/3P4/8/PPP1PPPP/RN1QKBNR b KQkq - 1 2         2\n",
      "Qc6   r1b1kbr1/1pqp1p2/p3p2p/2pN3Q/P5n1/1B1P4/1PP2PP1/R1B1R1K1 b q - 5 15    2\n",
      "dtype: int64\n",
      "---\n",
      "Date: 2020-02-01 00:00:00. Elo: (2400,2600]\n",
      "Series([], dtype: int64)\n",
      "Date: 2021-04-01 00:00:00. Elo: (2400,2600]\n",
      "Move   FEN                                                                \n",
      "Bxf7+  r1bqk1nr/pppp1ppp/2n5/2b1p3/2B1P3/5N2/PPPP1PPP/RNBQK2R w KQkq - 4 4    2\n",
      "dtype: int64\n",
      "---\n"
     ]
    }
   ],
   "source": [
    "for low_thr in range(600,2600,200):\n",
    "    #for date in grouped_by_elo.Date.unique():\n",
    "    #for date in set([tup[1] for tup in list(grouped_by_elo.groups.keys())]):\n",
    "    for date in [pd.Timestamp('2020-02-01 00:00:00'),pd.Timestamp('2021-04-01 00:00:00')]:\n",
    "        vc = grouped_by_elo.get_group((pd.Interval(low_thr, low_thr+200, closed='right'),date)).value_counts(['Move', 'FEN'])\n",
    "        print(f\"Date: {date}. Elo: ({low_thr},{low_thr+200}]\")\n",
    "        print(vc[vc>1].head(5))\n",
    "    print(\"---\")"
   ]
  },
  {
   "cell_type": "markdown",
   "metadata": {},
   "source": [
    "# Explore by plots"
   ]
  },
  {
   "cell_type": "code",
   "execution_count": 7,
   "metadata": {},
   "outputs": [
    {
     "data": {
      "text/plain": [
       "<AxesSubplot:>"
      ]
     },
     "execution_count": 7,
     "metadata": {},
     "output_type": "execute_result"
    },
    {
     "data": {
      "image/png": "[encoded data removed]",
      "text/plain": [
       "<Figure size 432x288 with 1 Axes>"
      ]
     },
     "metadata": {
      "needs_background": "light"
     },
     "output_type": "display_data"
    }
   ],
   "source": [
    "vc = df_data.Move.value_counts()\n",
    "vc[vc>7000].plot(kind='bar')"
   ]
  },
  {
   "cell_type": "code",
   "execution_count": 8,
   "metadata": {
    "scrolled": false
   },
   "outputs": [
    {
     "data": {
      "image/png": "[encoded data removed]",
      "text/plain": [
       "<Figure size 432x288 with 1 Axes>"
      ]
     },
     "metadata": {
      "needs_background": "light"
     },
     "output_type": "display_data"
    }
   ],
   "source": [
    "s = df_data.groupby(['Date','Move']).size().sort_values(ascending=False).to_frame('size').reset_index().set_index('Date')\n",
    "\n",
    "for move, group in s[s['size']>3000].groupby('Move'):\n",
    "    x = [t.to_pydatetime() for t in group.index]\n",
    "    y = group['size'].to_list()\n",
    "    plt.plot(x,y, label=move)\n",
    "\n",
    "#plt.legend(loc='right', bbox_to_anchor=(1.5,0.5))\n",
    "plt.ylim()\n",
    "plt.show()"
   ]
  },
  {
   "cell_type": "code",
   "execution_count": 9,
   "metadata": {},
   "outputs": [
    {
     "data": {
      "text/html": [
       "<div>\n",
       "<style scoped>\n",
       "    .dataframe tbody tr th:only-of-type {\n",
       "        vertical-align: middle;\n",
       "    }\n",
       "\n",
       "    .dataframe tbody tr th {\n",
       "        vertical-align: top;\n",
       "    }\n",
       "\n",
       "    .dataframe thead th {\n",
       "        text-align: right;\n",
       "    }\n",
       "</style>\n",
       "<table border=\"1\" class=\"dataframe\">\n",
       "  <thead>\n",
       "    <tr style=\"text-align: right;\">\n",
       "      <th></th>\n",
       "      <th>Move</th>\n",
       "      <th>size</th>\n",
       "    </tr>\n",
       "    <tr>\n",
       "      <th>Date</th>\n",
       "      <th></th>\n",
       "      <th></th>\n",
       "    </tr>\n",
       "  </thead>\n",
       "  <tbody>\n",
       "    <tr>\n",
       "      <th>2021-04-01</th>\n",
       "      <td>O-O</td>\n",
       "      <td>7776</td>\n",
       "    </tr>\n",
       "    <tr>\n",
       "      <th>2021-04-01</th>\n",
       "      <td>e5</td>\n",
       "      <td>3639</td>\n",
       "    </tr>\n",
       "    <tr>\n",
       "      <th>2021-04-01</th>\n",
       "      <td>d5</td>\n",
       "      <td>3373</td>\n",
       "    </tr>\n",
       "    <tr>\n",
       "      <th>2021-04-01</th>\n",
       "      <td>f6</td>\n",
       "      <td>3260</td>\n",
       "    </tr>\n",
       "    <tr>\n",
       "      <th>2021-04-01</th>\n",
       "      <td>Nf6</td>\n",
       "      <td>3258</td>\n",
       "    </tr>\n",
       "    <tr>\n",
       "      <th>2021-04-01</th>\n",
       "      <td>Bg5</td>\n",
       "      <td>3142</td>\n",
       "    </tr>\n",
       "  </tbody>\n",
       "</table>\n",
       "</div>"
      ],
      "text/plain": [
       "           Move  size\n",
       "Date                 \n",
       "2021-04-01  O-O  7776\n",
       "2021-04-01   e5  3639\n",
       "2021-04-01   d5  3373\n",
       "2021-04-01   f6  3260\n",
       "2021-04-01  Nf6  3258\n",
       "2021-04-01  Bg5  3142"
      ]
     },
     "execution_count": 9,
     "metadata": {},
     "output_type": "execute_result"
    }
   ],
   "source": [
    "s.query(\"size>3000 & Date==datetime(2021,4,1)\").sort_values(by='size', ascending=False)"
   ]
  }
 ],
 "metadata": {
  "kernelspec": {
   "display_name": "venv",
   "language": "python",
   "name": "venv"
  },
  "language_info": {
   "codemirror_mode": {
    "name": "ipython",
    "version": 3
   },
   "file_extension": ".py",
   "mimetype": "text/x-python",
   "name": "python",
   "nbconvert_exporter": "python",
   "pygments_lexer": "ipython3",
   "version": "3.7.3"
  }
 },
 "nbformat": 4,
 "nbformat_minor": 2
}
