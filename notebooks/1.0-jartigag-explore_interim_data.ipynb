{
 "cells": [
  {
   "cell_type": "code",
   "execution_count": 1,
   "metadata": {},
   "outputs": [],
   "source": [
    "import pandas as pd\n",
    "import numpy as np\n",
    "import matplotlib.pyplot as plt"
   ]
  },
  {
   "cell_type": "code",
   "execution_count": 2,
   "metadata": {
    "scrolled": false
   },
   "outputs": [
    {
     "name": "stdout",
     "output_type": "stream",
     "text": [
      "2020-01: 778722 rows\n",
      "2020-02: 785708 rows\n",
      "2020-03: 785573 rows\n",
      "2020-04: 765804 rows\n",
      "2020-05: 779387 rows\n",
      "2020-06: 791979 rows\n",
      "2020-07: 808481 rows\n",
      "2020-08: 794475 rows\n",
      "2020-09: 865472 rows\n",
      "2020-10: 819039 rows\n",
      "2020-11: 815354 rows\n",
      "2020-12: 871235 rows\n",
      "CPU times: user 10.7 s, sys: 708 ms, total: 11.4 s\n",
      "Wall time: 11.4 s\n"
     ]
    },
    {
     "data": {
      "text/html": [
       "<div>\n",
       "<style scoped>\n",
       "    .dataframe tbody tr th:only-of-type {\n",
       "        vertical-align: middle;\n",
       "    }\n",
       "\n",
       "    .dataframe tbody tr th {\n",
       "        vertical-align: top;\n",
       "    }\n",
       "\n",
       "    .dataframe thead th {\n",
       "        text-align: right;\n",
       "    }\n",
       "</style>\n",
       "<table border=\"1\" class=\"dataframe\">\n",
       "  <thead>\n",
       "    <tr style=\"text-align: right;\">\n",
       "      <th></th>\n",
       "      <th>Move</th>\n",
       "      <th>FEN</th>\n",
       "      <th>Turn</th>\n",
       "      <th>Elo</th>\n",
       "      <th>TimeControl</th>\n",
       "      <th>ElapsedSeconds</th>\n",
       "      <th>Date</th>\n",
       "    </tr>\n",
       "  </thead>\n",
       "  <tbody>\n",
       "    <tr>\n",
       "      <th>0</th>\n",
       "      <td>Bc3</td>\n",
       "      <td>r1b2rk1/pp3pbp/6p1/2pN4/2Pqp3/8/P1RBBnPP/1Q3RK...</td>\n",
       "      <td>20</td>\n",
       "      <td>1581</td>\n",
       "      <td>300+3</td>\n",
       "      <td>201.0</td>\n",
       "      <td>2020-01-01</td>\n",
       "    </tr>\n",
       "    <tr>\n",
       "      <th>1</th>\n",
       "      <td>Nf2+</td>\n",
       "      <td>r1b2rk1/pp3pbp/6p1/2pN4/2Pqp3/2B4n/P1R1B1PP/1Q...</td>\n",
       "      <td>21</td>\n",
       "      <td>1595</td>\n",
       "      <td>300+3</td>\n",
       "      <td>16.0</td>\n",
       "      <td>2020-01-01</td>\n",
       "    </tr>\n",
       "    <tr>\n",
       "      <th>2</th>\n",
       "      <td>Kg1</td>\n",
       "      <td>r1b2rk1/pp3pbp/6p1/2pN4/2Pqp3/2B5/P1R1BnPP/1Q3...</td>\n",
       "      <td>22</td>\n",
       "      <td>1581</td>\n",
       "      <td>300+3</td>\n",
       "      <td>160.0</td>\n",
       "      <td>2020-01-01</td>\n",
       "    </tr>\n",
       "    <tr>\n",
       "      <th>3</th>\n",
       "      <td>Nf2+</td>\n",
       "      <td>r1b2rk1/pp3pbp/6p1/2pN4/2Pqp3/2B4n/P1R1B1PP/1Q...</td>\n",
       "      <td>23</td>\n",
       "      <td>1595</td>\n",
       "      <td>300+3</td>\n",
       "      <td>17.0</td>\n",
       "      <td>2020-01-01</td>\n",
       "    </tr>\n",
       "    <tr>\n",
       "      <th>4</th>\n",
       "      <td>Bxe4</td>\n",
       "      <td>rn1qkb1r/ppp1pppp/5n2/5bN1/4P3/8/PPP2PPP/RNBQK...</td>\n",
       "      <td>5</td>\n",
       "      <td>1496</td>\n",
       "      <td>60+0</td>\n",
       "      <td>58.0</td>\n",
       "      <td>2020-01-01</td>\n",
       "    </tr>\n",
       "  </tbody>\n",
       "</table>\n",
       "</div>"
      ],
      "text/plain": [
       "   Move                                                FEN  Turn   Elo  \\\n",
       "0   Bc3  r1b2rk1/pp3pbp/6p1/2pN4/2Pqp3/8/P1RBBnPP/1Q3RK...    20  1581   \n",
       "1  Nf2+  r1b2rk1/pp3pbp/6p1/2pN4/2Pqp3/2B4n/P1R1B1PP/1Q...    21  1595   \n",
       "2   Kg1  r1b2rk1/pp3pbp/6p1/2pN4/2Pqp3/2B5/P1R1BnPP/1Q3...    22  1581   \n",
       "3  Nf2+  r1b2rk1/pp3pbp/6p1/2pN4/2Pqp3/2B4n/P1R1B1PP/1Q...    23  1595   \n",
       "4  Bxe4  rn1qkb1r/ppp1pppp/5n2/5bN1/4P3/8/PPP2PPP/RNBQK...     5  1496   \n",
       "\n",
       "  TimeControl  ElapsedSeconds       Date  \n",
       "0       300+3           201.0 2020-01-01  \n",
       "1       300+3            16.0 2020-01-01  \n",
       "2       300+3           160.0 2020-01-01  \n",
       "3       300+3            17.0 2020-01-01  \n",
       "4        60+0            58.0 2020-01-01  "
      ]
     },
     "execution_count": 2,
     "metadata": {},
     "output_type": "execute_result"
    }
   ],
   "source": [
    "df_list = []\n",
    "for m in range(1,13):\n",
    "    df = pd.read_csv(f'../data/interim/lichess_db_standard_rated_2020-{m:02d}.eval.blunders.csv')\n",
    "    print(f\"2020-{m:02d}:\",len(df),\"rows\")\n",
    "    df['Date'] = pd.to_datetime(f'2020-{m:02d}')\n",
    "    df_list.append(df)\n",
    "\n",
    "df_data = pd.concat([d for d in df_list])\n",
    "df_data.head()"
   ]
  },
  {
   "cell_type": "markdown",
   "metadata": {},
   "source": [
    "# Explore by Elo"
   ]
  },
  {
   "cell_type": "code",
   "execution_count": 3,
   "metadata": {},
   "outputs": [
    {
     "data": {
      "text/plain": [
       "Elo\n",
       "(600, 800]        56676\n",
       "(800, 1000]      452768\n",
       "(1000, 1200]    1228812\n",
       "(1200, 1400]    1863139\n",
       "(1400, 1600]    2141080\n",
       "(1600, 1800]    1800378\n",
       "(1800, 2000]    1240169\n",
       "(2000, 2200]     603594\n",
       "(2200, 2400]     203628\n",
       "(2400, 2600]      51678\n",
       "(2600, 2800]      13784\n",
       "dtype: int64"
      ]
     },
     "execution_count": 3,
     "metadata": {},
     "output_type": "execute_result"
    }
   ],
   "source": [
    "grouped_by_elo = df_data.groupby( pd.cut(df_data['Elo'], np.arange(600, 3000, 200)) )\n",
    "grouped_by_elo.size()"
   ]
  },
  {
   "cell_type": "code",
   "execution_count": 4,
   "metadata": {
    "scrolled": false
   },
   "outputs": [
    {
     "name": "stdout",
     "output_type": "stream",
     "text": [
      "Elo: (600,800]\n",
      "Move  FEN                                                             \n",
      "g6    rnbqkbnr/pppp1ppp/8/4p2Q/4P3/8/PPPP1PPP/RNB1KBNR b KQkq - 1 2       51\n",
      "Qh4   rnbqkbnr/pppp1ppp/8/4p3/4P3/5N2/PPPP1PPP/RNBQKB1R b KQkq - 1 2       9\n",
      "f3    rnbqkb1r/pppp1ppp/8/4N3/4n3/8/PPPP1PPP/RNBQKB1R w KQkq - 0 4         8\n",
      "Bc4   rnbqkbnr/ppp1pppp/8/3p4/4P3/8/PPPP1PPP/RNBQKBNR w KQkq - 0 2         7\n",
      "Nxd5  r1bqkbnr/ppp1pppp/2n5/3p4/3P4/2N5/PPP1PPPP/R1BQKBNR w KQkq - 2 3     7\n",
      "dtype: int64\n",
      "---\n",
      "Elo: (800,1000]\n",
      "Move  FEN                                                                 \n",
      "g6    rnbqkbnr/pppp1ppp/8/4p2Q/4P3/8/PPPP1PPP/RNB1KBNR b KQkq - 1 2           307\n",
      "g4    r1bqkb1r/pppp1ppp/2n2n2/4p3/2B1P3/5Q2/PPPP1PPP/RNB1K1NR w KQkq - 4 4     65\n",
      "Nd4   r1bqkbnr/pppp1ppp/2n5/3Pp3/4P3/8/PPP2PPP/RNBQKBNR b KQkq - 0 3           53\n",
      "Ng5   r1bqk1nr/pppp1ppp/2n5/2b1p3/2B1P3/5N2/PPPP1PPP/RNBQK2R w KQkq - 4 4      47\n",
      "Nd4   rnbqkbnr/ppp1pppp/8/8/4p3/5N2/PPPP1PPP/RNBQKB1R w KQkq - 0 3             43\n",
      "dtype: int64\n",
      "---\n",
      "Elo: (1000,1200]\n",
      "Move  FEN                                                                 \n",
      "g6    rnbqkbnr/pppp1ppp/8/4p2Q/4P3/8/PPPP1PPP/RNB1KBNR b KQkq - 1 2           405\n",
      "Ng5   r1bqk1nr/pppp1ppp/2n5/2b1p3/2B1P3/5N2/PPPP1PPP/RNBQK2R w KQkq - 4 4     200\n",
      "Nd4   r1bqkbnr/pppp1ppp/2n5/3Pp3/4P3/8/PPP2PPP/RNBQKBNR b KQkq - 0 3          156\n",
      "Nh3   r1bqkb1r/pppp1ppp/2n2n2/4p3/2B1P3/5Q2/PPPP1PPP/RNB1K1NR w KQkq - 4 4    147\n",
      "fxe5  rnbqkbnr/pppp2pp/5p2/4P3/4P3/8/PPP2PPP/RNBQKBNR b KQkq - 0 3            119\n",
      "dtype: int64\n",
      "---\n",
      "Elo: (1200,1400]\n",
      "Move  FEN                                                                 \n",
      "Ng5   r1bqk1nr/pppp1ppp/2n5/2b1p3/2B1P3/5N2/PPPP1PPP/RNBQK2R w KQkq - 4 4     278\n",
      "g6    rnbqkbnr/pppp1ppp/8/4p2Q/4P3/8/PPPP1PPP/RNB1KBNR b KQkq - 1 2           270\n",
      "Bc4   rnbqkbnr/ppp1pppp/8/3p4/4P3/8/PPPP1PPP/RNBQKBNR w KQkq - 0 2            176\n",
      "Nd4   r1bqkbnr/pppp1ppp/2n5/3Pp3/4P3/8/PPP2PPP/RNBQKBNR b KQkq - 0 3          170\n",
      "Nh3   r1bqkb1r/pppp1ppp/2n2n2/4p3/2B1P3/5Q2/PPPP1PPP/RNB1K1NR w KQkq - 4 4    152\n",
      "dtype: int64\n",
      "---\n",
      "Elo: (1400,1600]\n",
      "Move  FEN                                                                \n",
      "Ng5   r1bqk1nr/pppp1ppp/2n5/2b1p3/2B1P3/5N2/PPPP1PPP/RNBQK2R w KQkq - 4 4    189\n",
      "Bc4   rnbqkbnr/ppp1pppp/8/3p4/4P3/8/PPPP1PPP/RNBQKBNR w KQkq - 0 2           181\n",
      "fxe5  r1bqkbnr/pppp1ppp/2n5/4p3/4PP2/8/PPPP2PP/RNBQKBNR w KQkq - 1 3         131\n",
      "cxb5  rnbqkbnr/p3pppp/2p5/1P6/2pP4/4P3/1P3PPP/RNBQKBNR b KQkq - 0 5          122\n",
      "g6    rnbqkbnr/pppp1ppp/8/4p2Q/4P3/8/PPPP1PPP/RNB1KBNR b KQkq - 1 2          117\n",
      "dtype: int64\n",
      "---\n",
      "Elo: (1600,1800]\n",
      "Move   FEN                                                             \n",
      "Bc4    rnbqkbnr/ppp1pppp/8/3p4/4P3/8/PPPP1PPP/RNBQKBNR w KQkq - 0 2        143\n",
      "Bg4    rnbqkbnr/ppp1pppp/8/3P4/8/8/PPPP1PPP/RNBQKBNR b KQkq - 0 2          116\n",
      "cxb5   rnbqkbnr/p3pppp/2p5/1P6/2pP4/4P3/1P3PPP/RNBQKBNR b KQkq - 0 5       102\n",
      "Nxe5   r1bqkbnr/pppp1ppp/2n5/4P3/4P3/8/PPPP2PP/RNBQKBNR b KQkq - 0 3        84\n",
      "Bxf7+  r1bqkbnr/pppp1ppp/2n5/4p3/2B1P3/8/PPPP1PPP/RNBQK1NR w KQkq - 2 3     79\n",
      "dtype: int64\n",
      "---\n",
      "Elo: (1800,2000]\n",
      "Move  FEN                                                            \n",
      "Bg4   rnbqkbnr/ppp1pppp/8/3P4/8/8/PPPP1PPP/RNBQKBNR b KQkq - 0 2         79\n",
      "Bc4   rnbqkbnr/ppp1pppp/8/3p4/4P3/8/PPPP1PPP/RNBQKBNR w KQkq - 0 2       61\n",
      "c5    r1b1kbnr/pppp1ppp/8/4P3/1n1N4/2N5/PqPBPPPP/R2QKB1R b KQkq - 3 7    52\n",
      "Bc3   r1b1kbnr/pppp1ppp/2n5/4P3/8/5N2/PqPBPPPP/RN1QKB1R w KQkq - 0 6     49\n",
      "fxe5  r1bqkbnr/pppp1ppp/2n5/4p3/4PP2/8/PPPP2PP/RNBQKBNR w KQkq - 1 3     48\n",
      "dtype: int64\n",
      "---\n",
      "Elo: (2000,2200]\n",
      "Move   FEN                                                              \n",
      "Bg4    rnbqkbnr/ppp1pppp/8/3P4/8/8/PPPP1PPP/RNBQKBNR b KQkq - 0 2           32\n",
      "Bg5    rnbqkbnr/pppp1ppp/4p3/8/3P4/8/PPP1PPPP/RNBQKBNR w KQkq - 0 2         24\n",
      "Bxf2+  rnbqk1nr/pppp1ppp/8/2b1p3/2B1P3/5N2/PPPP1PPP/RNBQK2R b KQkq - 3 3    15\n",
      "Bh3    rnbqkbnr/ppp1pppp/8/3p4/8/6P1/PPPPPPBP/RNBQK1NR b KQkq - 1 2         15\n",
      "Bg2    rnbqkbnr/pppp1ppp/8/8/4p3/5NP1/PPPPPP1P/RNBQKB1R w KQkq - 0 3        14\n",
      "dtype: int64\n",
      "---\n",
      "Elo: (2200,2400]\n",
      "Move  FEN                                                          \n",
      "Bg4   rnbqkbnr/ppp1pppp/8/3P4/8/8/PPPP1PPP/RNBQKBNR b KQkq - 0 2       14\n",
      "Bh6   rnbqkbnr/pppppp1p/6p1/8/3P4/8/PPP1PPPP/RNBQKBNR w KQkq - 0 2      7\n",
      "Bg2   rnbqkbnr/pppp1ppp/8/8/4p3/5NP1/PPPPPP1P/RNBQKB1R w KQkq - 0 3     7\n",
      "Bf4   rnbqkbnr/pppp1ppp/8/4p3/3P4/8/PPP1PPPP/RNBQKBNR w KQkq - 0 2      6\n",
      "Bh3   rnbqkbnr/ppp1pppp/8/3p4/8/6P1/PPPPPPBP/RNBQK1NR b KQkq - 1 2      6\n",
      "dtype: int64\n",
      "---\n",
      "Elo: (2400,2600]\n",
      "Move  FEN                                                           \n",
      "h5    rnbq1rk1/pppp1pbp/5np1/8/4p2P/5NP1/PPPPPPB1/RNBQ1RK1 w - - 0 7    4\n",
      "hxg6  rnbq1rk1/pppp1pbp/5np1/7P/8/5pP1/PPPPPPB1/RNBQ1RK1 w - - 0 8      3\n",
      "Bg4   rnbqkbnr/ppp1pppp/8/3P4/8/8/PPPP1PPP/RNBQKBNR b KQkq - 0 2        3\n",
      "Nc5   1r2n2k/R2n1ppp/3p2b1/1N1Pp3/4P3/4BP2/4B1PP/6K1 b - - 0 23         2\n",
      "Re3   8/1p6/2p2k2/5p1p/7P/1P1r1KP1/4R3/8 w - - 1 37                     2\n",
      "dtype: int64\n",
      "---\n"
     ]
    }
   ],
   "source": [
    "for low_thr in range(600,2600,200):\n",
    "    vc = grouped_by_elo.get_group(pd.Interval(low_thr, low_thr+200, closed='right')).value_counts(['Move', 'FEN'])\n",
    "    #with pd.option_context('display.max_rows', 8):\n",
    "    print(f\"Elo: ({low_thr},{low_thr+200}]\")\n",
    "    print(vc[vc>1].head(5))\n",
    "    print(\"---\")"
   ]
  },
  {
   "cell_type": "markdown",
   "metadata": {},
   "source": [
    "# Explore by Date"
   ]
  },
  {
   "cell_type": "code",
   "execution_count": 5,
   "metadata": {},
   "outputs": [
    {
     "data": {
      "text/plain": [
       "Elo           Date      \n",
       "(600, 800]    2020-01-01    2849\n",
       "              2020-02-01    2982\n",
       "              2020-03-01    2269\n",
       "              2020-04-01    2765\n",
       "              2020-05-01    2970\n",
       "                            ... \n",
       "(2600, 2800]  2020-08-01    1571\n",
       "              2020-09-01    1187\n",
       "              2020-10-01     956\n",
       "              2020-11-01     914\n",
       "              2020-12-01     895\n",
       "Length: 132, dtype: int64"
      ]
     },
     "execution_count": 5,
     "metadata": {},
     "output_type": "execute_result"
    }
   ],
   "source": [
    "grouped_by_elo = df_data.groupby( [pd.cut(df_data['Elo'], np.arange(600, 3000, 200)),'Date'] )\n",
    "grouped_by_elo.size()"
   ]
  },
  {
   "cell_type": "code",
   "execution_count": 6,
   "metadata": {
    "scrolled": false
   },
   "outputs": [
    {
     "name": "stdout",
     "output_type": "stream",
     "text": [
      "Date: 2020-01-01 00:00:00. Elo: (1600,1800]\n",
      "Move  FEN                                                           \n",
      "Bg4   rnbqkbnr/ppp1pppp/8/3P4/8/8/PPPP1PPP/RNBQKBNR b KQkq - 0 2        11\n",
      "Bc4   rnbqkbnr/ppp1pppp/8/3p4/4P3/8/PPPP1PPP/RNBQKBNR w KQkq - 0 2       8\n",
      "h6    rnbqkb1r/ppp1pppp/5n2/6N1/8/3B4/PPP2PPP/RNBQK2R b KQkq - 0 5       7\n",
      "Nxe5  r1bqkbnr/pppp1ppp/2n5/4P3/4P3/8/PPPP2PP/RNBQKBNR b KQkq - 0 3      7\n",
      "fxe5  r1bqkbnr/pppp1ppp/2n5/4p3/4PP2/8/PPPP2PP/RNBQKBNR w KQkq - 1 3     6\n",
      "dtype: int64\n",
      "Date: 2020-02-01 00:00:00. Elo: (1600,1800]\n",
      "Move   FEN                                                             \n",
      "Bxf7+  r1bqkbnr/pppp1ppp/2n5/4p3/2B1P3/8/PPPP1PPP/RNBQK1NR w KQkq - 2 3    14\n",
      "Bc4    rnbqkbnr/ppp1pppp/8/3p4/4P3/8/PPPP1PPP/RNBQKBNR w KQkq - 0 2        13\n",
      "cxb5   rnbqkbnr/p3pppp/2p5/1P6/2pP4/4P3/1P3PPP/RNBQKBNR b KQkq - 0 5       12\n",
      "Bg4    rnbqkbnr/ppp1pppp/8/3P4/8/8/PPPP1PPP/RNBQKBNR b KQkq - 0 2          10\n",
      "Bc3    r1b1kbnr/pppp1ppp/2n5/4P3/8/5N2/PqPBPPPP/RN1QKB1R w KQkq - 0 6       8\n",
      "dtype: int64\n",
      "Date: 2020-03-01 00:00:00. Elo: (1600,1800]\n",
      "Move   FEN                                                             \n",
      "Bc4    rnbqkbnr/ppp1pppp/8/3p4/4P3/8/PPPP1PPP/RNBQKBNR w KQkq - 0 2        17\n",
      "Bg5    rnbqkbnr/pppp1ppp/4p3/8/3P4/8/PPP1PPPP/RNBQKBNR w KQkq - 0 2        12\n",
      "Nxe5   r1bqkbnr/pppp1ppp/2n5/4P3/4P3/8/PPPP2PP/RNBQKBNR b KQkq - 0 3       11\n",
      "cxb5   rnbqkbnr/p3pppp/2p5/1P6/2pP4/4P3/1P3PPP/RNBQKBNR b KQkq - 0 5       10\n",
      "Bxf7+  r1bqkbnr/pppp1ppp/2n5/4p3/2B1P3/8/PPPP1PPP/RNBQK1NR w KQkq - 2 3    10\n",
      "dtype: int64\n",
      "Date: 2020-04-01 00:00:00. Elo: (1600,1800]\n",
      "Move   FEN                                                                \n",
      "Bc4    rnbqkbnr/ppp1pppp/8/3p4/4P3/8/PPPP1PPP/RNBQKBNR w KQkq - 0 2           13\n",
      "Bxf7+  rnbqkbnr/pp2pppp/3p4/2p5/2B1P3/8/PPPP1PPP/RNBQK1NR w KQkq - 0 3        10\n",
      "Ng5    r1bqk1nr/pppp1ppp/2n5/2b1p3/2B1P3/5N2/PPPP1PPP/RNBQK2R w KQkq - 4 4    10\n",
      "g6     rnbqkbnr/pppp1ppp/8/4p2Q/4P3/8/PPPP1PPP/RNB1KBNR b KQkq - 1 2           9\n",
      "Nbd2   r1b1kbnr/pppp1ppp/2n5/4P3/1q3B2/5N2/PPP1PPPP/RN1QKB1R w KQkq - 5 5      9\n",
      "dtype: int64\n",
      "Date: 2020-05-01 00:00:00. Elo: (1600,1800]\n",
      "Move   FEN                                                             \n",
      "Bc4    rnbqkbnr/ppp1pppp/8/3p4/4P3/8/PPPP1PPP/RNBQKBNR w KQkq - 0 2        12\n",
      "Bg4    rnbqkbnr/ppp1pppp/8/3P4/8/8/PPPP1PPP/RNBQKBNR b KQkq - 0 2          12\n",
      "cxb5   rnbqkbnr/p3pppp/2p5/1P6/2pP4/4P3/1P3PPP/RNBQKBNR b KQkq - 0 5       11\n",
      "Bxf7+  r1bqkbnr/pppp1ppp/2n5/4p3/2B1P3/8/PPPP1PPP/RNBQK1NR w KQkq - 2 3     8\n",
      "Bg5    rnbqkbnr/pppp1ppp/4p3/8/3P4/8/PPP1PPPP/RNBQKBNR w KQkq - 0 2         7\n",
      "dtype: int64\n",
      "Date: 2020-06-01 00:00:00. Elo: (1600,1800]\n",
      "Move  FEN                                                           \n",
      "Bg4   rnbqkbnr/ppp1pppp/8/3P4/8/8/PPPP1PPP/RNBQKBNR b KQkq - 0 2        16\n",
      "h6    rnbqkb1r/ppp1pppp/5n2/6N1/8/3B4/PPP2PPP/RNBQK2R b KQkq - 0 5      11\n",
      "Bc3   r1b1kbnr/pppp1ppp/2n5/4P3/8/5N2/PqPBPPPP/RN1QKB1R w KQkq - 0 6    11\n",
      "cxb5  rnbqkbnr/p3pppp/2p5/1P6/2pP4/4P3/1P3PPP/RNBQKBNR b KQkq - 0 5     11\n",
      "Bc4   rnbqkbnr/ppp1pppp/8/3p4/4P3/8/PPPP1PPP/RNBQKBNR w KQkq - 0 2      10\n",
      "dtype: int64\n",
      "Date: 2020-07-01 00:00:00. Elo: (1600,1800]\n",
      "Move   FEN                                                                \n",
      "Bxf7+  r1bqk1nr/pppp1ppp/2n5/2b1p3/2B1P3/5N2/PPPP1PPP/RNBQK2R w KQkq - 4 4    14\n",
      "cxb5   rnbqkbnr/p3pppp/2p5/1P6/2pP4/4P3/1P3PPP/RNBQKBNR b KQkq - 0 5          13\n",
      "Bc4    rnbqkbnr/ppp1pppp/8/3p4/4P3/8/PPPP1PPP/RNBQKBNR w KQkq - 0 2           11\n",
      "Bxf7+  r1bqkb1r/pppp1ppp/2n2n2/4p3/2B1P3/5N2/PPPP1PPP/RNBQK2R w KQkq - 4 4     9\n",
      "Bxf2+  rnbqk1nr/pppp1ppp/8/2b1p3/2B1P3/5N2/PPPP1PPP/RNBQK2R b KQkq - 3 3       9\n",
      "dtype: int64\n",
      "Date: 2020-08-01 00:00:00. Elo: (1600,1800]\n",
      "Move   FEN                                                                \n",
      "Bc4    rnbqkbnr/ppp1pppp/8/3p4/4P3/8/PPPP1PPP/RNBQKBNR w KQkq - 0 2           18\n",
      "Bg4    rnbqkbnr/ppp1pppp/8/3P4/8/8/PPPP1PPP/RNBQKBNR b KQkq - 0 2             15\n",
      "Nxe5   r1bqkbnr/pppp1ppp/2n5/4P3/4P3/8/PPPP2PP/RNBQKBNR b KQkq - 0 3          10\n",
      "Bxf7+  r1bqk1nr/pppp1ppp/2n5/2b1p3/2B1P3/5N2/PPPP1PPP/RNBQK2R w KQkq - 4 4     9\n",
      "h6     rnbqkb1r/ppp1pppp/5n2/6N1/8/3B4/PPP2PPP/RNBQK2R b KQkq - 0 5            9\n",
      "dtype: int64\n",
      "Date: 2020-09-01 00:00:00. Elo: (1600,1800]\n",
      "Move  FEN                                                            \n",
      "Bg4   rnbqkbnr/ppp1pppp/8/3P4/8/8/PPPP1PPP/RNBQKBNR b KQkq - 0 2         13\n",
      "Nxf7  r1b1kbnr/pppp1ppp/8/4N1q1/2BnP3/8/PPPP1PPP/RNBQK2R w KQkq - 1 5    12\n",
      "Bc4   rnbqkbnr/ppp1pppp/8/3p4/4P3/8/PPPP1PPP/RNBQKBNR w KQkq - 0 2       12\n",
      "cxb5  rnbqkbnr/p3pppp/2p5/1P6/2pP4/4P3/1P3PPP/RNBQKBNR b KQkq - 0 5      11\n",
      "Bg5   rnbqkbnr/pppp1ppp/4p3/8/3P4/8/PPP1PPPP/RNBQKBNR w KQkq - 0 2       11\n",
      "dtype: int64\n",
      "Date: 2020-10-01 00:00:00. Elo: (1600,1800]\n",
      "Move  FEN                                                                \n",
      "Bg5   r1bqk2r/ppp2ppp/2p2n2/2b5/4P3/3P4/PPP2PPP/RNBQKB1R w KQkq - 1 6        11\n",
      "Ng5   r1bqk1nr/pppp1ppp/2n5/2b1p3/2B1P3/5N2/PPPP1PPP/RNBQK2R w KQkq - 4 4    10\n",
      "Be3   r1b1kbnr/pp3ppp/1qn1p3/2ppP3/3P4/2P2N2/PP3PPP/RNBQKB1R w KQkq - 3 6    10\n",
      "Bf4   rnbqkbnr/pppp1ppp/8/4p3/3P4/8/PPP1PPPP/RNBQKBNR w KQkq - 0 2            9\n",
      "Bg4   rnbqkbnr/ppp1pppp/8/3P4/8/8/PPPP1PPP/RNBQKBNR b KQkq - 0 2              9\n",
      "dtype: int64\n",
      "Date: 2020-11-01 00:00:00. Elo: (1600,1800]\n",
      "Move  FEN                                                                \n",
      "Nd4   r1bqkbnr/pppp1ppp/2n5/3Pp3/4P3/8/PPP2PPP/RNBQKBNR b KQkq - 0 3         14\n",
      "Bc4   rnbqkbnr/ppp1pppp/8/3p4/4P3/8/PPPP1PPP/RNBQKBNR w KQkq - 0 2           14\n",
      "cxb5  rnbqkbnr/p3pppp/2p5/1P6/2pP4/4P3/1P3PPP/RNBQKBNR b KQkq - 0 5          12\n",
      "Bc3   r1b1kbnr/pppp1ppp/2n5/4P3/8/5N2/PqPBPPPP/RN1QKB1R w KQkq - 0 6         10\n",
      "Ng5   r1bqk1nr/pppp1ppp/2n5/2b1p3/2B1P3/5N2/PPPP1PPP/RNBQK2R w KQkq - 4 4     8\n",
      "dtype: int64\n",
      "Date: 2020-12-01 00:00:00. Elo: (1600,1800]\n",
      "Move   FEN                                                                \n",
      "dxe7   rnbqk2r/ppp1nppp/3P4/2b5/8/5N2/PPP1PPPP/RNBQKB1R w KQkq - 1 5          27\n",
      "Bg4    rnbqkbnr/ppp1pppp/8/3P4/8/8/PPPP1PPP/RNBQKBNR b KQkq - 0 2             10\n",
      "Bf4    rnbqkbnr/pppp1ppp/8/4p3/3P4/8/PPP1PPPP/RNBQKBNR w KQkq - 0 2           10\n",
      "cxb5   rnbqkbnr/p3pppp/2p5/1P6/2pP4/4P3/1P3PPP/RNBQKBNR b KQkq - 0 5           9\n",
      "Bxf7+  r1bqk1nr/pppp1ppp/2n5/2b1p3/2B1P3/5N2/PPPP1PPP/RNBQK2R w KQkq - 4 4     9\n",
      "dtype: int64\n",
      "---\n"
     ]
    }
   ],
   "source": [
    "for low_thr in [1600]:#range(600,2600,200):\n",
    "    for date in pd.date_range(start='2020-01', periods=12, freq=pd.offsets.MonthBegin()):\n",
    "        vc = grouped_by_elo.get_group((pd.Interval(low_thr, low_thr+200, closed='right'),date)).value_counts(['Move', 'FEN'])\n",
    "        print(f\"Date: {date}. Elo: ({low_thr},{low_thr+200}]\")\n",
    "        print(vc[vc>1].head(5))\n",
    "    print(\"---\")"
   ]
  },
  {
   "cell_type": "markdown",
   "metadata": {},
   "source": [
    "# Explore by plots"
   ]
  },
  {
   "cell_type": "code",
   "execution_count": 7,
   "metadata": {
    "scrolled": false
   },
   "outputs": [
    {
     "name": "stdout",
     "output_type": "stream",
     "text": [
      "CPU times: user 37.1 s, sys: 1.1 s, total: 38.2 s\n",
      "Wall time: 38.2 s\n"
     ]
    }
   ],
   "source": [
    "vc = df_data.value_counts(['Move', 'FEN'])\n",
    "vc_gt400 = vc[vc>400]"
   ]
  },
  {
   "cell_type": "code",
   "execution_count": 29,
   "metadata": {},
   "outputs": [
    {
     "data": {
      "text/plain": [
       "<AxesSubplot:xlabel='Move'>"
      ]
     },
     "execution_count": 29,
     "metadata": {},
     "output_type": "execute_result"
    },
    {
     "data": {
      "image/png": "[encoded data removed]",
      "text/plain": [
       "<Figure size 432x288 with 1 Axes>"
      ]
     },
     "metadata": {
      "needs_background": "light"
     },
     "output_type": "display_data"
    }
   ],
   "source": [
    "vc_gt400.reset_index().plot(kind='bar',x='Move',legend=None) #.get_figure(); x.savefig('png', dpi=200)"
   ]
  },
  {
   "cell_type": "code",
   "execution_count": 18,
   "metadata": {
    "scrolled": false
   },
   "outputs": [
    {
     "name": "stdout",
     "output_type": "stream",
     "text": [
      "CPU times: user 46.9 s, sys: 796 ms, total: 47.7 s\n",
      "Wall time: 47.6 s\n"
     ]
    },
    {
     "data": {
      "text/plain": [
       "\"\\nfor row in sorted_data:\\n    move = row[0]\\n    x = row[1]['date']\\n    y = row[1]['size']\\n    plt.plot(x,y, label=move)\\n\\nplt.legend(loc='right', bbox_to_anchor=(1.5,0.5))\\nplt.show()\\n\""
      ]
     },
     "execution_count": 18,
     "metadata": {},
     "output_type": "execute_result"
    }
   ],
   "source": [
    "#s = df_data.groupby(['Date','Move','FEN']).size().sort_values(ascending=False).to_frame('size')\n",
    "s = df_data.value_counts(['Date', 'Move', 'FEN']).sort_values(ascending=False).to_frame('size')\n",
    "s = s.reset_index().set_index('Date').sort_index()\n",
    "\n",
    "data_dict = {}\n",
    "for move, group in s[s['size']>400].groupby('Move'):\n",
    "    data_dict[move] = {'date': [], 'size': []}\n",
    "    data_dict[move]['date'] = [t.to_pydatetime() for t in group.index]\n",
    "    data_dict[move]['size'] = group['size'].to_list()\n",
    "    #plt.plot(x,y, label=move)\n",
    "\n",
    "sorted_data = sorted(data_dict.items(), key = lambda kv:data_dict[kv[0]]['size'][-1], reverse=True)\n",
    "\n",
    "'''\n",
    "for row in sorted_data:\n",
    "    move = row[0]\n",
    "    x = row[1]['date']\n",
    "    y = row[1]['size']\n",
    "    plt.plot(x,y, label=move)\n",
    "\n",
    "plt.legend(loc='right', bbox_to_anchor=(1.5,0.5))\n",
    "plt.show()\n",
    "'''"
   ]
  }
 ],
 "metadata": {
  "kernelspec": {
   "display_name": "venv",
   "language": "python",
   "name": "venv"
  },
  "language_info": {
   "codemirror_mode": {
    "name": "ipython",
    "version": 3
   },
   "file_extension": ".py",
   "mimetype": "text/x-python",
   "name": "python",
   "nbconvert_exporter": "python",
   "pygments_lexer": "ipython3",
   "version": "3.7.3"
  }
 },
 "nbformat": 4,
 "nbformat_minor": 2
}
